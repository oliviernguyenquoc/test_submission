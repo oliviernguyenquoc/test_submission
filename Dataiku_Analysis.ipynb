{
 "cells": [
  {
   "cell_type": "markdown",
   "metadata": {
    "ExecuteTime": {
     "end_time": "2016-09-09T18:59:39.575663",
     "start_time": "2016-09-09T18:59:39.567276"
    }
   },
   "source": [
    "<img src=\"https://upload.wikimedia.org/wikipedia/fr/a/a4/Logo_dataiku.png\" width=400>"
   ]
  },
  {
   "cell_type": "markdown",
   "metadata": {},
   "source": [
    "<h1 id=\"tocheading\">Table of Contents</h1>\n",
    "<div id=\"toc\"></div>"
   ]
  },
  {
   "cell_type": "markdown",
   "metadata": {},
   "source": [
    "# Import data"
   ]
  },
  {
   "cell_type": "code",
   "execution_count": 270,
   "metadata": {
    "ExecuteTime": {
     "end_time": "2016-09-16T00:20:55.989390",
     "start_time": "2016-09-16T00:20:52.250076"
    },
    "collapsed": false,
    "run_control": {
     "frozen": false,
     "read_only": false
    }
   },
   "outputs": [],
   "source": [
    "import pandas as pd\n",
    "import matplotlib.pyplot as plt\n",
    "import numpy as np\n",
    "import time\n",
    "import seaborn as sns\n",
    "\n",
    "from sklearn.ensemble import RandomForestClassifier\n",
    "from sklearn.cross_validation import train_test_split\n",
    "from sklearn import preprocessing\n",
    "from sklearn.metrics import log_loss\n",
    "from sklearn.linear_model import LogisticRegression\n",
    "\n",
    "%matplotlib inline\n",
    "\n",
    "# Load Data with pandas, and add the first columns names (headers)\n",
    "header_row=['age','class_of_worker','industry_code','occupation_code','education','wage_per_hour','enrolled_in_edu_inst_last_wk','marital_status','major_industry_code','major_occupation_code','race','hispanic_Origin','sex','member_of_a_labor_union','reason_for_unemployment','full_or_part_time_employment_stat','capital_gains','capital_losses','dividends_from_stocks','tax_filer_status','region_of_previous_residence','state_of_previous_residence','detailed_household_and_family_stat','detailed_household_summary_in_household','instance_weight','migration_code_change_in_msa','migration_code_change_in_reg','migration_code_move_within_reg','live_in_this_house_1_year_ago','migration_prev_res_in_sunbelt','num_persons_worked_for_employer','family_members_under_18','country_of_birth_father','country_of_birth_mother','country_of_birth_self','citizenship','own_business_or_self_employed','taxable_income_amount','veterans_benefits','weeks_worked_in_year','year','income']\n",
    "\n",
    "train = pd.read_csv(\"us_census_full/census_income_learn.csv\", names=header_row, encoding='utf-8', sep=\",\")\n",
    "test = pd.read_csv(\"us_census_full/census_income_test.csv\", names=header_row, encoding='utf-8', sep=\",\")\n",
    "\n",
    "# Target is equal to 1 if income over 50 000\n",
    "train['target'] = np.where(train['income']==' - 50000.',0,1)\n",
    "test['target'] = np.where(test['income']==' - 50000.',0,1)"
   ]
  },
  {
   "cell_type": "code",
   "execution_count": 271,
   "metadata": {
    "ExecuteTime": {
     "end_time": "2016-09-16T00:20:56.048240",
     "start_time": "2016-09-16T00:20:55.990762"
    },
    "collapsed": false,
    "run_control": {
     "frozen": false,
     "read_only": false
    }
   },
   "outputs": [
    {
     "data": {
      "text/html": [
       "<div>\n",
       "<table border=\"1\" class=\"dataframe\">\n",
       "  <thead>\n",
       "    <tr style=\"text-align: right;\">\n",
       "      <th></th>\n",
       "      <th>age</th>\n",
       "      <th>class_of_worker</th>\n",
       "      <th>industry_code</th>\n",
       "      <th>occupation_code</th>\n",
       "      <th>education</th>\n",
       "      <th>wage_per_hour</th>\n",
       "      <th>enrolled_in_edu_inst_last_wk</th>\n",
       "      <th>marital_status</th>\n",
       "      <th>major_industry_code</th>\n",
       "      <th>major_occupation_code</th>\n",
       "      <th>...</th>\n",
       "      <th>country_of_birth_mother</th>\n",
       "      <th>country_of_birth_self</th>\n",
       "      <th>citizenship</th>\n",
       "      <th>own_business_or_self_employed</th>\n",
       "      <th>taxable_income_amount</th>\n",
       "      <th>veterans_benefits</th>\n",
       "      <th>weeks_worked_in_year</th>\n",
       "      <th>year</th>\n",
       "      <th>income</th>\n",
       "      <th>target</th>\n",
       "    </tr>\n",
       "  </thead>\n",
       "  <tbody>\n",
       "    <tr>\n",
       "      <th>0</th>\n",
       "      <td>73</td>\n",
       "      <td>Not in universe</td>\n",
       "      <td>0</td>\n",
       "      <td>0</td>\n",
       "      <td>High school graduate</td>\n",
       "      <td>0</td>\n",
       "      <td>Not in universe</td>\n",
       "      <td>Widowed</td>\n",
       "      <td>Not in universe or children</td>\n",
       "      <td>Not in universe</td>\n",
       "      <td>...</td>\n",
       "      <td>United-States</td>\n",
       "      <td>United-States</td>\n",
       "      <td>Native- Born in the United States</td>\n",
       "      <td>0</td>\n",
       "      <td>Not in universe</td>\n",
       "      <td>2</td>\n",
       "      <td>0</td>\n",
       "      <td>95</td>\n",
       "      <td>- 50000.</td>\n",
       "      <td>0</td>\n",
       "    </tr>\n",
       "    <tr>\n",
       "      <th>1</th>\n",
       "      <td>58</td>\n",
       "      <td>Self-employed-not incorporated</td>\n",
       "      <td>4</td>\n",
       "      <td>34</td>\n",
       "      <td>Some college but no degree</td>\n",
       "      <td>0</td>\n",
       "      <td>Not in universe</td>\n",
       "      <td>Divorced</td>\n",
       "      <td>Construction</td>\n",
       "      <td>Precision production craft &amp; repair</td>\n",
       "      <td>...</td>\n",
       "      <td>United-States</td>\n",
       "      <td>United-States</td>\n",
       "      <td>Native- Born in the United States</td>\n",
       "      <td>0</td>\n",
       "      <td>Not in universe</td>\n",
       "      <td>2</td>\n",
       "      <td>52</td>\n",
       "      <td>94</td>\n",
       "      <td>- 50000.</td>\n",
       "      <td>0</td>\n",
       "    </tr>\n",
       "    <tr>\n",
       "      <th>2</th>\n",
       "      <td>18</td>\n",
       "      <td>Not in universe</td>\n",
       "      <td>0</td>\n",
       "      <td>0</td>\n",
       "      <td>10th grade</td>\n",
       "      <td>0</td>\n",
       "      <td>High school</td>\n",
       "      <td>Never married</td>\n",
       "      <td>Not in universe or children</td>\n",
       "      <td>Not in universe</td>\n",
       "      <td>...</td>\n",
       "      <td>Vietnam</td>\n",
       "      <td>Vietnam</td>\n",
       "      <td>Foreign born- Not a citizen of U S</td>\n",
       "      <td>0</td>\n",
       "      <td>Not in universe</td>\n",
       "      <td>2</td>\n",
       "      <td>0</td>\n",
       "      <td>95</td>\n",
       "      <td>- 50000.</td>\n",
       "      <td>0</td>\n",
       "    </tr>\n",
       "    <tr>\n",
       "      <th>3</th>\n",
       "      <td>9</td>\n",
       "      <td>Not in universe</td>\n",
       "      <td>0</td>\n",
       "      <td>0</td>\n",
       "      <td>Children</td>\n",
       "      <td>0</td>\n",
       "      <td>Not in universe</td>\n",
       "      <td>Never married</td>\n",
       "      <td>Not in universe or children</td>\n",
       "      <td>Not in universe</td>\n",
       "      <td>...</td>\n",
       "      <td>United-States</td>\n",
       "      <td>United-States</td>\n",
       "      <td>Native- Born in the United States</td>\n",
       "      <td>0</td>\n",
       "      <td>Not in universe</td>\n",
       "      <td>0</td>\n",
       "      <td>0</td>\n",
       "      <td>94</td>\n",
       "      <td>- 50000.</td>\n",
       "      <td>0</td>\n",
       "    </tr>\n",
       "    <tr>\n",
       "      <th>4</th>\n",
       "      <td>10</td>\n",
       "      <td>Not in universe</td>\n",
       "      <td>0</td>\n",
       "      <td>0</td>\n",
       "      <td>Children</td>\n",
       "      <td>0</td>\n",
       "      <td>Not in universe</td>\n",
       "      <td>Never married</td>\n",
       "      <td>Not in universe or children</td>\n",
       "      <td>Not in universe</td>\n",
       "      <td>...</td>\n",
       "      <td>United-States</td>\n",
       "      <td>United-States</td>\n",
       "      <td>Native- Born in the United States</td>\n",
       "      <td>0</td>\n",
       "      <td>Not in universe</td>\n",
       "      <td>0</td>\n",
       "      <td>0</td>\n",
       "      <td>94</td>\n",
       "      <td>- 50000.</td>\n",
       "      <td>0</td>\n",
       "    </tr>\n",
       "  </tbody>\n",
       "</table>\n",
       "<p>5 rows × 43 columns</p>\n",
       "</div>"
      ],
      "text/plain": [
       "   age                  class_of_worker  industry_code  occupation_code  \\\n",
       "0   73                  Not in universe              0                0   \n",
       "1   58   Self-employed-not incorporated              4               34   \n",
       "2   18                  Not in universe              0                0   \n",
       "3    9                  Not in universe              0                0   \n",
       "4   10                  Not in universe              0                0   \n",
       "\n",
       "                     education  wage_per_hour enrolled_in_edu_inst_last_wk  \\\n",
       "0         High school graduate              0              Not in universe   \n",
       "1   Some college but no degree              0              Not in universe   \n",
       "2                   10th grade              0                  High school   \n",
       "3                     Children              0              Not in universe   \n",
       "4                     Children              0              Not in universe   \n",
       "\n",
       "   marital_status           major_industry_code  \\\n",
       "0         Widowed   Not in universe or children   \n",
       "1        Divorced                  Construction   \n",
       "2   Never married   Not in universe or children   \n",
       "3   Never married   Not in universe or children   \n",
       "4   Never married   Not in universe or children   \n",
       "\n",
       "                  major_occupation_code  ...   country_of_birth_mother  \\\n",
       "0                       Not in universe  ...             United-States   \n",
       "1   Precision production craft & repair  ...             United-States   \n",
       "2                       Not in universe  ...                   Vietnam   \n",
       "3                       Not in universe  ...             United-States   \n",
       "4                       Not in universe  ...             United-States   \n",
       "\n",
       "  country_of_birth_self                           citizenship  \\\n",
       "0         United-States     Native- Born in the United States   \n",
       "1         United-States     Native- Born in the United States   \n",
       "2               Vietnam   Foreign born- Not a citizen of U S    \n",
       "3         United-States     Native- Born in the United States   \n",
       "4         United-States     Native- Born in the United States   \n",
       "\n",
       "  own_business_or_self_employed taxable_income_amount veterans_benefits  \\\n",
       "0                             0       Not in universe                 2   \n",
       "1                             0       Not in universe                 2   \n",
       "2                             0       Not in universe                 2   \n",
       "3                             0       Not in universe                 0   \n",
       "4                             0       Not in universe                 0   \n",
       "\n",
       "   weeks_worked_in_year  year     income target  \n",
       "0                     0    95   - 50000.      0  \n",
       "1                    52    94   - 50000.      0  \n",
       "2                     0    95   - 50000.      0  \n",
       "3                     0    94   - 50000.      0  \n",
       "4                     0    94   - 50000.      0  \n",
       "\n",
       "[5 rows x 43 columns]"
      ]
     },
     "execution_count": 271,
     "metadata": {},
     "output_type": "execute_result"
    }
   ],
   "source": [
    "#Overview of the dataset\n",
    "train.head()"
   ]
  },
  {
   "cell_type": "markdown",
   "metadata": {},
   "source": [
    "# Feature exploration"
   ]
  },
  {
   "cell_type": "markdown",
   "metadata": {
    "heading_collapsed": true
   },
   "source": [
    "## Use business rules"
   ]
  },
  {
   "cell_type": "markdown",
   "metadata": {
    "hidden": true
   },
   "source": [
    "It's always interesting to study a well-known business rule.\n",
    "\n",
    "__For example:__  \n",
    "As a general rule, the FLSA (Fair Labor Standards Act) sets 14 years of age as the minimum age for employment."
   ]
  },
  {
   "cell_type": "code",
   "execution_count": 3,
   "metadata": {
    "ExecuteTime": {
     "end_time": "2016-09-13T16:56:49.047473",
     "start_time": "2016-09-13T16:56:48.975972"
    },
    "collapsed": false,
    "hidden": true,
    "run_control": {
     "frozen": false,
     "read_only": false
    }
   },
   "outputs": [
    {
     "data": {
      "text/html": [
       "<div>\n",
       "<table border=\"1\" class=\"dataframe\">\n",
       "  <thead>\n",
       "    <tr style=\"text-align: right;\">\n",
       "      <th></th>\n",
       "      <th>age</th>\n",
       "      <th>class_of_worker</th>\n",
       "      <th>industry_code</th>\n",
       "      <th>occupation_code</th>\n",
       "      <th>education</th>\n",
       "      <th>wage_per_hour</th>\n",
       "      <th>enrolled_in_edu_inst_last_wk</th>\n",
       "      <th>marital_status</th>\n",
       "      <th>major_industry_code</th>\n",
       "      <th>major_occupation_code</th>\n",
       "      <th>...</th>\n",
       "      <th>country_of_birth_mother</th>\n",
       "      <th>country_of_birth_self</th>\n",
       "      <th>citizenship</th>\n",
       "      <th>own_business_or_self_employed</th>\n",
       "      <th>taxable_income_amount</th>\n",
       "      <th>veterans_benefits</th>\n",
       "      <th>weeks_worked_in_year</th>\n",
       "      <th>year</th>\n",
       "      <th>income</th>\n",
       "      <th>target</th>\n",
       "    </tr>\n",
       "  </thead>\n",
       "  <tbody>\n",
       "    <tr>\n",
       "      <th>20416</th>\n",
       "      <td>16</td>\n",
       "      <td>Private</td>\n",
       "      <td>32</td>\n",
       "      <td>18</td>\n",
       "      <td>10th grade</td>\n",
       "      <td>0</td>\n",
       "      <td>High school</td>\n",
       "      <td>Never married</td>\n",
       "      <td>Wholesale trade</td>\n",
       "      <td>Sales</td>\n",
       "      <td>...</td>\n",
       "      <td>United-States</td>\n",
       "      <td>United-States</td>\n",
       "      <td>Native- Born in the United States</td>\n",
       "      <td>0</td>\n",
       "      <td>Not in universe</td>\n",
       "      <td>2</td>\n",
       "      <td>52</td>\n",
       "      <td>94</td>\n",
       "      <td>50000+.</td>\n",
       "      <td>1</td>\n",
       "    </tr>\n",
       "    <tr>\n",
       "      <th>97025</th>\n",
       "      <td>17</td>\n",
       "      <td>Self-employed-incorporated</td>\n",
       "      <td>33</td>\n",
       "      <td>42</td>\n",
       "      <td>10th grade</td>\n",
       "      <td>0</td>\n",
       "      <td>High school</td>\n",
       "      <td>Never married</td>\n",
       "      <td>Retail trade</td>\n",
       "      <td>Handlers equip cleaners etc</td>\n",
       "      <td>...</td>\n",
       "      <td>United-States</td>\n",
       "      <td>United-States</td>\n",
       "      <td>Native- Born in the United States</td>\n",
       "      <td>0</td>\n",
       "      <td>Not in universe</td>\n",
       "      <td>2</td>\n",
       "      <td>24</td>\n",
       "      <td>95</td>\n",
       "      <td>50000+.</td>\n",
       "      <td>1</td>\n",
       "    </tr>\n",
       "  </tbody>\n",
       "</table>\n",
       "<p>2 rows × 43 columns</p>\n",
       "</div>"
      ],
      "text/plain": [
       "       age              class_of_worker  industry_code  occupation_code  \\\n",
       "20416   16                      Private             32               18   \n",
       "97025   17   Self-employed-incorporated             33               42   \n",
       "\n",
       "         education  wage_per_hour enrolled_in_edu_inst_last_wk  \\\n",
       "20416   10th grade              0                  High school   \n",
       "97025   10th grade              0                  High school   \n",
       "\n",
       "       marital_status major_industry_code          major_occupation_code  \\\n",
       "20416   Never married     Wholesale trade                          Sales   \n",
       "97025   Never married        Retail trade   Handlers equip cleaners etc    \n",
       "\n",
       "       ...   country_of_birth_mother country_of_birth_self  \\\n",
       "20416  ...             United-States         United-States   \n",
       "97025  ...             United-States         United-States   \n",
       "\n",
       "                              citizenship own_business_or_self_employed  \\\n",
       "20416   Native- Born in the United States                             0   \n",
       "97025   Native- Born in the United States                             0   \n",
       "\n",
       "      taxable_income_amount veterans_benefits  weeks_worked_in_year  year  \\\n",
       "20416       Not in universe                 2                    52    94   \n",
       "97025       Not in universe                 2                    24    95   \n",
       "\n",
       "         income target  \n",
       "20416   50000+.      1  \n",
       "97025   50000+.      1  \n",
       "\n",
       "[2 rows x 43 columns]"
      ]
     },
     "execution_count": 3,
     "metadata": {},
     "output_type": "execute_result"
    }
   ],
   "source": [
    "train[(train.age<18) & (train.target == 1)]"
   ]
  },
  {
   "cell_type": "markdown",
   "metadata": {
    "hidden": true
   },
   "source": [
    "It represents 22% of the data set. Lets exclude them. Do not forget to predict them as false for test sample if we use the business rule."
   ]
  },
  {
   "cell_type": "code",
   "execution_count": 4,
   "metadata": {
    "ExecuteTime": {
     "end_time": "2016-09-13T16:56:53.978529",
     "start_time": "2016-09-13T16:56:53.943446"
    },
    "collapsed": false,
    "hidden": true,
    "run_control": {
     "frozen": false,
     "read_only": false
    }
   },
   "outputs": [
    {
     "name": "stdout",
     "output_type": "stream",
     "text": [
      "22.23001859434752\n"
     ]
    }
   ],
   "source": [
    "print(100*len(train[(train.age<14)])/len(train))\n",
    "#train = train[train.age>=14]"
   ]
  },
  {
   "cell_type": "markdown",
   "metadata": {
    "hidden": true
   },
   "source": [
    "### Code to test efficiency of this rule"
   ]
  },
  {
   "cell_type": "markdown",
   "metadata": {
    "hidden": true
   },
   "source": [
    "Let's test the business rule. \n",
    "\n",
    "**WARNING:** You have to execute \"feature_engineering\" block (see in \"Feature Engineering\" section)"
   ]
  },
  {
   "cell_type": "code",
   "execution_count": null,
   "metadata": {
    "ExecuteTime": {
     "end_time": "2016-09-12T17:30:19.696314",
     "start_time": "2016-09-12T17:30:00.869578"
    },
    "collapsed": false,
    "hidden": true,
    "run_control": {
     "frozen": false,
     "read_only": false
    }
   },
   "outputs": [],
   "source": [
    "from sklearn.linear_model import LogisticRegression\n",
    "from sklearn.metrics import log_loss\n",
    "\n",
    "X_train = feature_engineering(train)\n",
    "\n",
    "X_train_rest = X_train[X_train.age<14]\n",
    "X_train = X_train[X_train.age>=14]\n",
    "\n",
    "# Target : target\n",
    "y_train = X_train.pop('target')\n",
    "y_train_rest = X_train_rest.pop('target')\n",
    "\n",
    "\n",
    "###############################\n",
    "\n",
    "features_taken = ['age','wage_per_hour','weeks_worked_in_year','dividends_from_stocks','capital_gains','num_persons_worked_for_employer','capital_losses']\n",
    "\n",
    "# Function that search and add in an array all split features thanks to their name (ex: 'industry_code' => 'split_industry_code_0', 'split_industry_code_1' ...)\n",
    "# Input : \n",
    "#    features_array : array of features\n",
    "#    array : array in which split features are added\n",
    "def add_split_variables_to_array(features_array, array):\n",
    "    for feature_name in features_array:\n",
    "        feature_name = 'split_' + feature_name\n",
    "        columns = [col for col in X_train.columns if feature_name in col]\n",
    "        array = array + columns\n",
    "    return array\n",
    "\n",
    "split_features_to_be_added =['occupation_code','education','industry_code','major_industry_code','sex','major_occupation_code','class_of_worker','tax_filer_status','marital_status','own_business_or_self_employed','detailed_household_and_family_stat','member_of_a_labor_union','country_of_birth_father','country_of_birth_mother','detailed_household_summary_in_household','full_or_part_time_employment_stat','race']\n",
    "#split_features_to_be_added = ['occupation_code','education','industry_code','major_industry_code','sex','major_occupation_code']\n",
    "features_taken = add_split_variables_to_array(split_features_to_be_added, features_taken)\n",
    "\n",
    "X_train_temp = X_train[features_taken]\n",
    "X_train = X_train_temp\n",
    "\n",
    "###############################\n",
    "\n",
    "start_time = time.time()\n",
    "lr = LogisticRegression()\n",
    "lr.fit(X_train,y_train)\n",
    "predicted = lr.predict_proba(X_train)\n",
    "\n",
    "array_temp = [[0,1]]*len(X_train_rest)\n",
    "predicted = np.concatenate((predicted,array_temp), axis=0)\n",
    "\n",
    "y_train = np.concatenate((y_train,y_train_rest), axis=0)\n",
    "\n",
    "error = log_loss(y_train,predicted)\n",
    "\n",
    "print(\"log loss:\" % error)\n",
    "print(\"--- seconds %s ---\" % (time.time() - start_time))"
   ]
  },
  {
   "cell_type": "markdown",
   "metadata": {
    "hidden": true
   },
   "source": [
    "Error with the business rule : 0.1228  \n",
    "Error without the business rule : 0.1229\n",
    "\n",
    "The business rule is not efficient. Hopefully, even a simple model can catch this fact. But this rule can be very usefull in order to reduce by 22% the dataset if you want to perform powerfull but time consuming algorithms.\n",
    "\n",
    "This is just a simple example to show that business rules have to be considered to interpret / to deal with data."
   ]
  },
  {
   "cell_type": "markdown",
   "metadata": {
    "heading_collapsed": true
   },
   "source": [
    "## Sparsing test"
   ]
  },
  {
   "cell_type": "markdown",
   "metadata": {
    "hidden": true
   },
   "source": [
    "Let's see if the dataset is sparse are not.\n",
    "\n",
    "We use missingno package to see very quicky if it's the case are not."
   ]
  },
  {
   "cell_type": "code",
   "execution_count": 5,
   "metadata": {
    "ExecuteTime": {
     "end_time": "2016-09-13T16:57:04.801699",
     "start_time": "2016-09-13T16:57:03.225277"
    },
    "collapsed": false,
    "hidden": true,
    "run_control": {
     "frozen": false,
     "read_only": false
    }
   },
   "outputs": [
    {
     "data": {
      "image/png": "[encoded data removed]",
      "text/plain": [
       "<matplotlib.figure.Figure at 0x11136ad30>"
      ]
     },
     "metadata": {},
     "output_type": "display_data"
    }
   ],
   "source": [
    "import missingno as msno\n",
    "%matplotlib inline\n",
    "msno.matrix(train.sample(250))"
   ]
  },
  {
   "cell_type": "markdown",
   "metadata": {
    "hidden": true
   },
   "source": [
    "We can see that missing values are informations about migration informations.\n",
    "\n",
    "There is not much informations missing because informations comes from US Census.\n",
    "\n",
    "I don't think there is so much possibilities to use imputation technics."
   ]
  },
  {
   "cell_type": "markdown",
   "metadata": {
    "heading_collapsed": true
   },
   "source": [
    "## Basic statistics"
   ]
  },
  {
   "cell_type": "markdown",
   "metadata": {
    "heading_collapsed": true,
    "hidden": true
   },
   "source": [
    "### Summary statistics"
   ]
  },
  {
   "cell_type": "code",
   "execution_count": 167,
   "metadata": {
    "ExecuteTime": {
     "end_time": "2016-09-15T16:46:06.385885",
     "start_time": "2016-09-15T16:46:06.132188"
    },
    "collapsed": false,
    "hidden": true
   },
   "outputs": [
    {
     "data": {
      "text/html": [
       "<div>\n",
       "<table border=\"1\" class=\"dataframe\">\n",
       "  <thead>\n",
       "    <tr style=\"text-align: right;\">\n",
       "      <th></th>\n",
       "      <th>count</th>\n",
       "      <th>mean</th>\n",
       "      <th>std</th>\n",
       "      <th>min</th>\n",
       "      <th>25%</th>\n",
       "      <th>50%</th>\n",
       "      <th>75%</th>\n",
       "      <th>max</th>\n",
       "    </tr>\n",
       "  </thead>\n",
       "  <tbody>\n",
       "    <tr>\n",
       "      <th>age</th>\n",
       "      <td>199523.0</td>\n",
       "      <td>34.494199</td>\n",
       "      <td>22.310895</td>\n",
       "      <td>0.0</td>\n",
       "      <td>15.0</td>\n",
       "      <td>33.0</td>\n",
       "      <td>50.0</td>\n",
       "      <td>90.0</td>\n",
       "    </tr>\n",
       "    <tr>\n",
       "      <th>industry_code</th>\n",
       "      <td>199523.0</td>\n",
       "      <td>15.352320</td>\n",
       "      <td>18.067129</td>\n",
       "      <td>0.0</td>\n",
       "      <td>0.0</td>\n",
       "      <td>0.0</td>\n",
       "      <td>33.0</td>\n",
       "      <td>51.0</td>\n",
       "    </tr>\n",
       "    <tr>\n",
       "      <th>occupation_code</th>\n",
       "      <td>199523.0</td>\n",
       "      <td>11.306556</td>\n",
       "      <td>14.454204</td>\n",
       "      <td>0.0</td>\n",
       "      <td>0.0</td>\n",
       "      <td>0.0</td>\n",
       "      <td>26.0</td>\n",
       "      <td>46.0</td>\n",
       "    </tr>\n",
       "    <tr>\n",
       "      <th>wage_per_hour</th>\n",
       "      <td>199523.0</td>\n",
       "      <td>55.426908</td>\n",
       "      <td>274.896454</td>\n",
       "      <td>0.0</td>\n",
       "      <td>0.0</td>\n",
       "      <td>0.0</td>\n",
       "      <td>0.0</td>\n",
       "      <td>9999.0</td>\n",
       "    </tr>\n",
       "    <tr>\n",
       "      <th>capital_gains</th>\n",
       "      <td>199523.0</td>\n",
       "      <td>434.718990</td>\n",
       "      <td>4697.531280</td>\n",
       "      <td>0.0</td>\n",
       "      <td>0.0</td>\n",
       "      <td>0.0</td>\n",
       "      <td>0.0</td>\n",
       "      <td>99999.0</td>\n",
       "    </tr>\n",
       "  </tbody>\n",
       "</table>\n",
       "</div>"
      ],
      "text/plain": [
       "                    count        mean          std  min   25%   50%   75%  \\\n",
       "age              199523.0   34.494199    22.310895  0.0  15.0  33.0  50.0   \n",
       "industry_code    199523.0   15.352320    18.067129  0.0   0.0   0.0  33.0   \n",
       "occupation_code  199523.0   11.306556    14.454204  0.0   0.0   0.0  26.0   \n",
       "wage_per_hour    199523.0   55.426908   274.896454  0.0   0.0   0.0   0.0   \n",
       "capital_gains    199523.0  434.718990  4697.531280  0.0   0.0   0.0   0.0   \n",
       "\n",
       "                     max  \n",
       "age                 90.0  \n",
       "industry_code       51.0  \n",
       "occupation_code     46.0  \n",
       "wage_per_hour     9999.0  \n",
       "capital_gains    99999.0  "
      ]
     },
     "execution_count": 167,
     "metadata": {},
     "output_type": "execute_result"
    }
   ],
   "source": [
    "summary = train.describe()\n",
    "summary = summary.transpose()\n",
    "summary.head()"
   ]
  },
  {
   "cell_type": "markdown",
   "metadata": {
    "heading_collapsed": true,
    "hidden": true
   },
   "source": [
    "### Corelation plot"
   ]
  },
  {
   "cell_type": "code",
   "execution_count": 157,
   "metadata": {
    "ExecuteTime": {
     "end_time": "2016-09-15T16:17:53.506294",
     "start_time": "2016-09-15T16:17:52.294545"
    },
    "collapsed": false,
    "hidden": true
   },
   "outputs": [
    {
     "name": "stdout",
     "output_type": "stream",
     "text": [
      "Computing correlation\n"
     ]
    },
    {
     "data": {
      "image/png": "[encoded data removed]",
      "text/plain": [
       "<matplotlib.figure.Figure at 0x11281d828>"
      ]
     },
     "metadata": {},
     "output_type": "display_data"
    }
   ],
   "source": [
    "from biokit.viz import corrplot\n",
    "c = corrplot.Corrplot(train.select_dtypes(include=['float64','int64']))\n",
    "c.plot(colorbar=False, shrink=.8, upper='circle')"
   ]
  },
  {
   "cell_type": "markdown",
   "metadata": {
    "heading_collapsed": true,
    "hidden": true
   },
   "source": [
    "### Some descriptive plots"
   ]
  },
  {
   "cell_type": "code",
   "execution_count": 180,
   "metadata": {
    "ExecuteTime": {
     "end_time": "2016-09-15T17:05:16.478044",
     "start_time": "2016-09-15T17:05:15.202217"
    },
    "collapsed": false,
    "hidden": true
   },
   "outputs": [
    {
     "data": {
      "image/png": "[encoded data removed]",
      "text/plain": [
       "<matplotlib.figure.Figure at 0x114c01a90>"
      ]
     },
     "metadata": {},
     "output_type": "display_data"
    }
   ],
   "source": [
    "sns.countplot(y=\"education\", hue=\"target\", data=train, orient=\"h\");"
   ]
  },
  {
   "cell_type": "code",
   "execution_count": 214,
   "metadata": {
    "ExecuteTime": {
     "end_time": "2016-09-15T23:13:52.300284",
     "start_time": "2016-09-15T23:13:51.971278"
    },
    "collapsed": false,
    "hidden": true
   },
   "outputs": [
    {
     "data": {
      "text/plain": [
       "<matplotlib.axes._subplots.AxesSubplot at 0x117ffd518>"
      ]
     },
     "execution_count": 214,
     "metadata": {},
     "output_type": "execute_result"
    },
    {
     "data": {
      "image/png": "[encoded data removed]",
      "text/plain": [
       "<matplotlib.figure.Figure at 0x117e1bdd8>"
      ]
     },
     "metadata": {},
     "output_type": "display_data"
    }
   ],
   "source": [
    "sns.distplot(train.age, kde=False, color=\"b\", bins=30)"
   ]
  },
  {
   "cell_type": "code",
   "execution_count": 201,
   "metadata": {
    "ExecuteTime": {
     "end_time": "2016-09-15T17:20:01.687514",
     "start_time": "2016-09-15T17:20:01.400073"
    },
    "collapsed": false,
    "hidden": true
   },
   "outputs": [
    {
     "data": {
      "text/plain": [
       "<matplotlib.axes._subplots.AxesSubplot at 0x114c03208>"
      ]
     },
     "execution_count": 201,
     "metadata": {},
     "output_type": "execute_result"
    },
    {
     "data": {
      "image/png": "[encoded data removed]",
      "text/plain": [
       "<matplotlib.figure.Figure at 0x11464c9b0>"
      ]
     },
     "metadata": {},
     "output_type": "display_data"
    }
   ],
   "source": [
    "sns.boxplot(x=train.wage_per_hour[train.wage_per_hour!=0])"
   ]
  },
  {
   "cell_type": "code",
   "execution_count": 170,
   "metadata": {
    "ExecuteTime": {
     "end_time": "2016-09-15T16:55:12.213661",
     "start_time": "2016-09-15T16:55:11.482220"
    },
    "collapsed": false,
    "hidden": true,
    "run_control": {
     "frozen": false,
     "read_only": false
    }
   },
   "outputs": [
    {
     "data": {
      "image/png": "[encoded data removed]",
      "text/plain": [
       "<matplotlib.figure.Figure at 0x115847860>"
      ]
     },
     "metadata": {},
     "output_type": "display_data"
    }
   ],
   "source": [
    "x1 = train.wage_per_hour[(train.wage_per_hour!=0) & (train.target==1)]\n",
    "x2 = train.wage_per_hour[(train.wage_per_hour!=0) & (train.target==0)]\n",
    "plt.hist([x1, x2], label=['Over 50 000', 'Under 50 000'])#,color = ['', 'b'])\n",
    "plt.legend(loc = 'upper left')\n",
    "plt.title('Relative distribution wage per hour')\n",
    "plt.show()"
   ]
  },
  {
   "cell_type": "markdown",
   "metadata": {},
   "source": [
    "# Feature Engineering"
   ]
  },
  {
   "cell_type": "markdown",
   "metadata": {},
   "source": [
    "We dummies categorical variable and delete income variable (replaced by target variable)."
   ]
  },
  {
   "cell_type": "code",
   "execution_count": 272,
   "metadata": {
    "ExecuteTime": {
     "end_time": "2016-09-16T00:20:56.090582",
     "start_time": "2016-09-16T00:20:56.050742"
    },
    "collapsed": true,
    "run_control": {
     "frozen": false,
     "read_only": false
    }
   },
   "outputs": [],
   "source": [
    "def feature_engineering(X):\n",
    "    \n",
    "    # Convert ? by default python NaN\n",
    "    X = X.replace(' ?', np.NaN)\n",
    "    \n",
    "    #Imputation\n",
    "    \n",
    "    #Working with education feature\n",
    "    def group_education(value):\n",
    "        if value in [' Some college but no degree','10th grade',' Children',' Less than 1st grade',' 7th and 8th grade',\n",
    "        ' 12th grade no diploma',' 5th or 6th grade',' 11th grade',' 9th grade',' 1st 2nd 3rd or 4th grade']:\n",
    "            value = 'Undergrade'\n",
    "        elif value in  ['High school graduate', ' Some college but no degree']:\n",
    "            value = \"Grad but not Bachelor or Master\"\n",
    "        elif value in  [' Masters degree(MA MS MEng MEd MSW MBA)',' Prof school degree (MD DDS DVM LLB JD)']:\n",
    "            value = \"Master\"\n",
    "        elif value in [' Associates degree-academic program', 'Associates degree-occup /vocational']:\n",
    "            value = \"Other\"\n",
    "        else:\n",
    "            value = value\n",
    "        return value\n",
    "    #X['education'] = X['education'].apply(group_education)\n",
    "\n",
    "    # Features to dummy\n",
    "    #to_dummy = []\n",
    "    to_dummy = ['occupation_code','education','industry_code','major_industry_code','sex','major_occupation_code','class_of_worker','tax_filer_status','marital_status','own_business_or_self_employed','detailed_household_and_family_stat','member_of_a_labor_union','country_of_birth_father','country_of_birth_mother','detailed_household_summary_in_household','full_or_part_time_employment_stat','race']\n",
    "    for dum in to_dummy :\n",
    "        dum_temp = dum.replace(\" \", \"_\")\n",
    "        split_temp = pd.get_dummies(X[dum], prefix='split_'+dum_temp)\n",
    "        for col in split_temp :\n",
    "            col_temp = col.replace(\" \", \"_\")\n",
    "            col_temp = col_temp.replace(\"<\",\"under_\")\n",
    "            X[col_temp] = split_temp[col]\n",
    "        del X[dum]\n",
    "    \n",
    "    # Features to delete\n",
    "    to_del = ['income','instance_weight']\n",
    "    for col in to_del : del X[col]\n",
    "    \n",
    "    return X"
   ]
  },
  {
   "cell_type": "markdown",
   "metadata": {},
   "source": [
    "# Feature selection"
   ]
  },
  {
   "cell_type": "markdown",
   "metadata": {
    "heading_collapsed": true
   },
   "source": [
    "## Random Forest"
   ]
  },
  {
   "cell_type": "markdown",
   "metadata": {
    "collapsed": true,
    "hidden": true,
    "run_control": {
     "frozen": false,
     "read_only": false
    }
   },
   "source": [
    "We do a random forest to do feature selection."
   ]
  },
  {
   "cell_type": "code",
   "execution_count": null,
   "metadata": {
    "collapsed": true,
    "hidden": true
   },
   "outputs": [],
   "source": [
    "X_train = train\n",
    "\n",
    "# Target : target\n",
    "y_train = X_train.pop('target')"
   ]
  },
  {
   "cell_type": "code",
   "execution_count": 21,
   "metadata": {
    "ExecuteTime": {
     "end_time": "2016-09-14T12:50:56.281813",
     "start_time": "2016-09-14T12:50:50.503561"
    },
    "code_folding": [],
    "collapsed": false,
    "hidden": true,
    "run_control": {
     "frozen": false,
     "read_only": false
    }
   },
   "outputs": [],
   "source": [
    "from sklearn import preprocessing\n",
    "\n",
    "def convert(data, categorical_data):\n",
    "    number = preprocessing.LabelEncoder()\n",
    "    for cat in categorical_data:\n",
    "        data[cat] = number.fit_transform(data[cat])\n",
    "    data=data.fillna(-999)\n",
    "    return data\n",
    "\n",
    "X_train = X_train.drop('income', 1)\n",
    "X_train = X_train.drop('instance_weight', 1)\n",
    "\n",
    "categorical_data = ['class_of_worker','industry_code','occupation_code','education','enrolled_in_edu_inst_last_wk','marital_status','major_industry_code','major_occupation_code','race','hispanic_Origin','sex','member_of_a_labor_union','reason_for_unemployment','full_or_part_time_employment_stat','tax_filer_status','region_of_previous_residence','state_of_previous_residence','detailed_household_and_family_stat','detailed_household_summary_in_household','migration_code_change_in_msa','migration_code_change_in_reg','migration_code_move_within_reg','live_in_this_house_1_year_ago','migration_prev_res_in_sunbelt','family_members_under_18','country_of_birth_father','country_of_birth_mother','country_of_birth_self','citizenship','own_business_or_self_employed','taxable_income_amount','veterans_benefits']\n",
    "X_train = convert(X_train, categorical_data)"
   ]
  },
  {
   "cell_type": "markdown",
   "metadata": {
    "hidden": true
   },
   "source": [
    "We have to convert categorical features to integer to run the random forest"
   ]
  },
  {
   "cell_type": "code",
   "execution_count": 22,
   "metadata": {
    "ExecuteTime": {
     "end_time": "2016-09-14T12:50:56.325042",
     "start_time": "2016-09-14T12:50:56.283174"
    },
    "collapsed": false,
    "hidden": true,
    "run_control": {
     "frozen": false,
     "read_only": false
    }
   },
   "outputs": [
    {
     "data": {
      "text/html": [
       "<div>\n",
       "<table border=\"1\" class=\"dataframe\">\n",
       "  <thead>\n",
       "    <tr style=\"text-align: right;\">\n",
       "      <th></th>\n",
       "      <th>age</th>\n",
       "      <th>class_of_worker</th>\n",
       "      <th>industry_code</th>\n",
       "      <th>occupation_code</th>\n",
       "      <th>education</th>\n",
       "      <th>wage_per_hour</th>\n",
       "      <th>enrolled_in_edu_inst_last_wk</th>\n",
       "      <th>marital_status</th>\n",
       "      <th>major_industry_code</th>\n",
       "      <th>major_occupation_code</th>\n",
       "      <th>...</th>\n",
       "      <th>family_members_under_18</th>\n",
       "      <th>country_of_birth_father</th>\n",
       "      <th>country_of_birth_mother</th>\n",
       "      <th>country_of_birth_self</th>\n",
       "      <th>citizenship</th>\n",
       "      <th>own_business_or_self_employed</th>\n",
       "      <th>taxable_income_amount</th>\n",
       "      <th>veterans_benefits</th>\n",
       "      <th>weeks_worked_in_year</th>\n",
       "      <th>year</th>\n",
       "    </tr>\n",
       "  </thead>\n",
       "  <tbody>\n",
       "    <tr>\n",
       "      <th>0</th>\n",
       "      <td>73</td>\n",
       "      <td>3</td>\n",
       "      <td>0</td>\n",
       "      <td>0</td>\n",
       "      <td>12</td>\n",
       "      <td>0</td>\n",
       "      <td>2</td>\n",
       "      <td>6</td>\n",
       "      <td>14</td>\n",
       "      <td>6</td>\n",
       "      <td>...</td>\n",
       "      <td>4</td>\n",
       "      <td>40</td>\n",
       "      <td>40</td>\n",
       "      <td>40</td>\n",
       "      <td>4</td>\n",
       "      <td>0</td>\n",
       "      <td>1</td>\n",
       "      <td>2</td>\n",
       "      <td>0</td>\n",
       "      <td>95</td>\n",
       "    </tr>\n",
       "    <tr>\n",
       "      <th>1</th>\n",
       "      <td>58</td>\n",
       "      <td>6</td>\n",
       "      <td>4</td>\n",
       "      <td>34</td>\n",
       "      <td>16</td>\n",
       "      <td>0</td>\n",
       "      <td>2</td>\n",
       "      <td>0</td>\n",
       "      <td>4</td>\n",
       "      <td>8</td>\n",
       "      <td>...</td>\n",
       "      <td>4</td>\n",
       "      <td>40</td>\n",
       "      <td>40</td>\n",
       "      <td>40</td>\n",
       "      <td>4</td>\n",
       "      <td>0</td>\n",
       "      <td>1</td>\n",
       "      <td>2</td>\n",
       "      <td>52</td>\n",
       "      <td>94</td>\n",
       "    </tr>\n",
       "    <tr>\n",
       "      <th>2</th>\n",
       "      <td>18</td>\n",
       "      <td>3</td>\n",
       "      <td>0</td>\n",
       "      <td>0</td>\n",
       "      <td>0</td>\n",
       "      <td>0</td>\n",
       "      <td>1</td>\n",
       "      <td>4</td>\n",
       "      <td>14</td>\n",
       "      <td>6</td>\n",
       "      <td>...</td>\n",
       "      <td>4</td>\n",
       "      <td>41</td>\n",
       "      <td>41</td>\n",
       "      <td>41</td>\n",
       "      <td>0</td>\n",
       "      <td>0</td>\n",
       "      <td>1</td>\n",
       "      <td>2</td>\n",
       "      <td>0</td>\n",
       "      <td>95</td>\n",
       "    </tr>\n",
       "    <tr>\n",
       "      <th>3</th>\n",
       "      <td>9</td>\n",
       "      <td>3</td>\n",
       "      <td>0</td>\n",
       "      <td>0</td>\n",
       "      <td>10</td>\n",
       "      <td>0</td>\n",
       "      <td>2</td>\n",
       "      <td>4</td>\n",
       "      <td>14</td>\n",
       "      <td>6</td>\n",
       "      <td>...</td>\n",
       "      <td>0</td>\n",
       "      <td>40</td>\n",
       "      <td>40</td>\n",
       "      <td>40</td>\n",
       "      <td>4</td>\n",
       "      <td>0</td>\n",
       "      <td>1</td>\n",
       "      <td>0</td>\n",
       "      <td>0</td>\n",
       "      <td>94</td>\n",
       "    </tr>\n",
       "    <tr>\n",
       "      <th>4</th>\n",
       "      <td>10</td>\n",
       "      <td>3</td>\n",
       "      <td>0</td>\n",
       "      <td>0</td>\n",
       "      <td>10</td>\n",
       "      <td>0</td>\n",
       "      <td>2</td>\n",
       "      <td>4</td>\n",
       "      <td>14</td>\n",
       "      <td>6</td>\n",
       "      <td>...</td>\n",
       "      <td>0</td>\n",
       "      <td>40</td>\n",
       "      <td>40</td>\n",
       "      <td>40</td>\n",
       "      <td>4</td>\n",
       "      <td>0</td>\n",
       "      <td>1</td>\n",
       "      <td>0</td>\n",
       "      <td>0</td>\n",
       "      <td>94</td>\n",
       "    </tr>\n",
       "  </tbody>\n",
       "</table>\n",
       "<p>5 rows × 40 columns</p>\n",
       "</div>"
      ],
      "text/plain": [
       "   age  class_of_worker  industry_code  occupation_code  education  \\\n",
       "0   73                3              0                0         12   \n",
       "1   58                6              4               34         16   \n",
       "2   18                3              0                0          0   \n",
       "3    9                3              0                0         10   \n",
       "4   10                3              0                0         10   \n",
       "\n",
       "   wage_per_hour  enrolled_in_edu_inst_last_wk  marital_status  \\\n",
       "0              0                             2               6   \n",
       "1              0                             2               0   \n",
       "2              0                             1               4   \n",
       "3              0                             2               4   \n",
       "4              0                             2               4   \n",
       "\n",
       "   major_industry_code  major_occupation_code  ...   family_members_under_18  \\\n",
       "0                   14                      6  ...                         4   \n",
       "1                    4                      8  ...                         4   \n",
       "2                   14                      6  ...                         4   \n",
       "3                   14                      6  ...                         0   \n",
       "4                   14                      6  ...                         0   \n",
       "\n",
       "   country_of_birth_father  country_of_birth_mother  country_of_birth_self  \\\n",
       "0                       40                       40                     40   \n",
       "1                       40                       40                     40   \n",
       "2                       41                       41                     41   \n",
       "3                       40                       40                     40   \n",
       "4                       40                       40                     40   \n",
       "\n",
       "   citizenship  own_business_or_self_employed  taxable_income_amount  \\\n",
       "0            4                              0                      1   \n",
       "1            4                              0                      1   \n",
       "2            0                              0                      1   \n",
       "3            4                              0                      1   \n",
       "4            4                              0                      1   \n",
       "\n",
       "   veterans_benefits  weeks_worked_in_year  year  \n",
       "0                  2                     0    95  \n",
       "1                  2                    52    94  \n",
       "2                  2                     0    95  \n",
       "3                  0                     0    94  \n",
       "4                  0                     0    94  \n",
       "\n",
       "[5 rows x 40 columns]"
      ]
     },
     "execution_count": 22,
     "metadata": {},
     "output_type": "execute_result"
    }
   ],
   "source": [
    "X_train.head()"
   ]
  },
  {
   "cell_type": "code",
   "execution_count": null,
   "metadata": {
    "ExecuteTime": {
     "end_time": "2016-09-14T12:51:01.204342",
     "start_time": "2016-09-14T12:50:58.970108"
    },
    "collapsed": false,
    "hidden": true,
    "run_control": {
     "frozen": false,
     "read_only": false
    }
   },
   "outputs": [],
   "source": [
    "from sklearn.ensemble import RandomForestClassifier\n",
    "model = RandomForestClassifier(n_jobs=-1)\n",
    "model.fit(X_train, y_train)\n",
    "importances = model.feature_importances_\n",
    "indices = np.argsort(importances)[::-1]\n",
    "for f in range(train.shape[1]):\n",
    "    print (\"%d. feature : %s (%f)\" % (f + 1, X_train.columns[indices[f]], importances[indices[f]]))"
   ]
  },
  {
   "cell_type": "markdown",
   "metadata": {
    "hidden": true
   },
   "source": [
    "1. feature : age (0.117727)\n",
    "2. feature : occupation_code (0.097561)\n",
    "3. feature : dividends_from_stocks (0.095593)\n",
    "4. feature : capital_gains (0.079395)\n",
    "5. feature : industry_code (0.069285)\n",
    "6. feature : education (0.059737)\n",
    "7. feature : num_persons_worked_for_employer (0.048052)\n",
    "8. feature : weeks_worked_in_year (0.040385)\n",
    "9. feature : major_industry_code (0.037779)\n",
    "10. feature : sex (0.035195)\n",
    "11. feature : class_of_worker (0.029439)\n",
    "12. feature : capital_losses (0.029362)\n",
    "13. feature : major_occupation_code (0.026440)\n",
    "14. feature : detailed_household_and_family_stat (0.018124)\n",
    "15. feature : tax_filer_status (0.016936)\n",
    "16. feature : marital_status (0.015990)\n",
    "17. feature : own_business_or_self_employed (0.015908)\n",
    "18. feature : country_of_birth_father (0.015197)\n",
    "19. feature : country_of_birth_mother (0.014619)\n",
    "20. feature : member_of_a_labor_union (0.014440)\n",
    "21. feature : wage_per_hour (0.012623)\n",
    "22. feature : full_or_part_time_employment_stat (0.011872)\n",
    "23. feature : detailed_household_summary_in_household (0.011467)\n",
    "24. feature : race (0.010820)\n",
    "25. feature : country_of_birth_self (0.008389)\n",
    "26. feature : hispanic_Origin (0.007774)\n",
    "27. feature : citizenship (0.006603)\n",
    "28. feature : migration_code_move_within_reg (0.006537)\n",
    "29. feature : migration_prev_res_in_sunbelt (0.006479)\n",
    "30. feature : migration_code_change_in_reg (0.006205)\n",
    "31. feature : migration_code_change_in_msa (0.006043)\n",
    "32. feature : live_in_this_house_1_year_ago (0.005669)\n",
    "33. feature : state_of_previous_residence (0.005074)\n",
    "34. feature : year (0.004125)\n",
    "35. feature : region_of_previous_residence (0.003510)\n",
    "36. feature : family_members_under_18 (0.002610)\n",
    "37. feature : reason_for_unemployment (0.002590)\n",
    "38. feature : taxable_income_amount (0.001992)\n",
    "39. feature : veterans_benefits (0.001871)\n",
    "40. feature : enrolled_in_edu_inst_last_wk (0.000581)"
   ]
  },
  {
   "cell_type": "markdown",
   "metadata": {
    "hidden": true
   },
   "source": [
    "Now, the random forest has given the list of the most important features to predict the target."
   ]
  },
  {
   "cell_type": "markdown",
   "metadata": {
    "ExecuteTime": {
     "end_time": "2016-09-13T18:18:31.457472",
     "start_time": "2016-09-13T18:18:31.436797"
    },
    "hidden": true
   },
   "source": [
    "In order to reduce more the number of variable we can do our variable selection after the dummification."
   ]
  },
  {
   "cell_type": "code",
   "execution_count": 45,
   "metadata": {
    "ExecuteTime": {
     "end_time": "2016-09-14T13:37:43.534349",
     "start_time": "2016-09-14T13:37:39.677110"
    },
    "collapsed": true,
    "hidden": true
   },
   "outputs": [],
   "source": [
    "X_train = feature_engineering(train)\n",
    "#X_train = train\n",
    "\n",
    "# Target : target\n",
    "y_train = X_train.pop('target')"
   ]
  },
  {
   "cell_type": "markdown",
   "metadata": {
    "hidden": true
   },
   "source": [
    "Warning: Have to run feature_engineering function and the final feature selection before"
   ]
  },
  {
   "cell_type": "code",
   "execution_count": null,
   "metadata": {
    "ExecuteTime": {
     "end_time": "2016-09-14T13:39:58.680771",
     "start_time": "2016-09-14T13:39:54.226103"
    },
    "collapsed": false,
    "hidden": true
   },
   "outputs": [],
   "source": [
    "from sklearn.ensemble import RandomForestClassifier\n",
    "model = RandomForestClassifier(n_jobs=-1)\n",
    "model.fit(X_train, y_train)\n",
    "importances = model.feature_importances_\n",
    "indices = np.argsort(importances)[::-1]\n",
    "for f in range(train.shape[1]):\n",
    "    print (\"%d. feature : %s (%f)\" % (f + 1, X_train.columns[indices[f]], importances[indices[f]]))"
   ]
  },
  {
   "cell_type": "markdown",
   "metadata": {
    "hidden": true
   },
   "source": [
    "1. feature : age (0.101595)\n",
    "2. feature : dividends_from_stocks (0.082604)\n",
    "3. feature : capital_gains (0.071861)\n",
    "4. feature : num_persons_worked_for_employer (0.045616)\n",
    "5. feature : weeks_worked_in_year (0.028694)\n",
    "6. feature : capital_losses (0.022910)\n",
    "7. feature : split_major_occupation_code__Executive_admin_and_managerial (0.022633)\n",
    "8. feature : split_sex__Female (0.015609)\n",
    "9. feature : split_occupation_code_2 (0.015127)\n",
    "10. feature : split_education__Masters_degree(MA_MS_MEng_MEd_MSW_MBA) (0.014904)\n",
    "11. feature : split_sex__Male (0.014442)\n",
    "12. feature : split_class_of_worker__Not_in_universe (0.014424)\n",
    "13. feature : split_education__Bachelors_degree(BA_AB_BS) (0.014053)\n",
    "14. feature : split_full_or_part_time_employment_stat__Children_or_Armed_Forces (0.014014)\n",
    "15. feature : split_full_or_part_time_employment_stat__Full-time_schedules (0.013382)\n",
    "16. feature : split_major_occupation_code__Professional_specialty (0.013004)\n",
    "17. feature : split_education__High_school_graduate (0.012297)\n",
    "18. feature : split_marital_status__Married-civilian_spouse_present (0.012026)\n",
    "19. feature : split_education__Prof_school_degree_(MD_DDS_DVM_LLB_JD) (0.011049)\n",
    "20. feature : split_education__Some_college_but_no_degree (0.010357)\n",
    "21. feature : wage_per_hour (0.009890)\n",
    "22. feature : split_detailed_household_and_family_stat__Householder (0.009679)\n",
    "23. feature : split_own_business_or_self_employed_0 (0.009413)\n",
    "24. feature : split_class_of_worker__Private (0.008747)\n",
    "25. feature : split_member_of_a_labor_union__Not_in_universe (0.008741)\n",
    "26. feature : split_class_of_worker__Self-employed-incorporated (0.008103)\n",
    "27. feature : split_own_business_or_self_employed_2 (0.007892)\n",
    "28. feature : split_member_of_a_labor_union__No (0.007820)\n",
    "29. feature : split_country_of_birth_father__United-States (0.007631)\n",
    "30. feature : split_country_of_birth_mother__United-States (0.007344)\n",
    "31. feature : split_education__Doctorate_degree(PhD_EdD) (0.006748)\n",
    "32. feature : split_race__White (0.006296)\n",
    "33. feature : split_tax_filer_status__Joint_both_under_65 (0.006287)\n",
    "34. feature : split_occupation_code_11 (0.005682)\n",
    "35. feature : split_occupation_code_7 (0.005584)\n",
    "36. feature : split_own_business_or_self_employed_1 (0.005394)\n",
    "37. feature : split_class_of_worker__Self-employed-not_incorporated (0.005388)\n",
    "38. feature : split_major_industry_code__Manufacturing-durable_goods (0.005318)\n",
    "39. feature : split_detailed_household_and_family_stat__Spouse_of_householder (0.005142)\n",
    "40. feature : split_occupation_code_4 (0.005045)\n",
    "41. feature : split_race__Black (0.004572)\n",
    "42. feature : split_detailed_household_summary_in_household__Householder (0.004521)\n",
    "43. feature : split_industry_code_45 (0.004512)"
   ]
  },
  {
   "cell_type": "markdown",
   "metadata": {},
   "source": [
    "## Final features selection"
   ]
  },
  {
   "cell_type": "markdown",
   "metadata": {
    "heading_collapsed": true
   },
   "source": [
    "### All the 20 best features before dummy"
   ]
  },
  {
   "cell_type": "markdown",
   "metadata": {
    "hidden": true
   },
   "source": [
    "We take the best 20 features from the random forest before spliting categorical features."
   ]
  },
  {
   "cell_type": "code",
   "execution_count": 273,
   "metadata": {
    "ExecuteTime": {
     "end_time": "2016-09-16T00:21:21.265361",
     "start_time": "2016-09-16T00:21:15.226128"
    },
    "collapsed": true,
    "hidden": true
   },
   "outputs": [],
   "source": [
    "X_train = feature_engineering(train)\n",
    "#X_train = train\n",
    "\n",
    "# Target : target\n",
    "y_train = X_train.pop('target')"
   ]
  },
  {
   "cell_type": "markdown",
   "metadata": {
    "hidden": true
   },
   "source": [
    "Thanks to the random forest we can select the most important features."
   ]
  },
  {
   "cell_type": "code",
   "execution_count": 274,
   "metadata": {
    "ExecuteTime": {
     "end_time": "2016-09-16T00:21:21.279993",
     "start_time": "2016-09-16T00:21:21.267574"
    },
    "collapsed": false,
    "hidden": true,
    "run_control": {
     "frozen": false,
     "read_only": false
    }
   },
   "outputs": [],
   "source": [
    "# Function that search and add in an array all split features thanks to their name (ex: 'industry_code' => 'split_industry_code_0', 'split_industry_code_1' ...)\n",
    "# Input : \n",
    "#    features_array : array of features\n",
    "#    array : array in which split features are added\n",
    "def add_split_variables_to_array(features_array, array,X):\n",
    "    for feature_name in features_array:\n",
    "        feature_name = 'split_' + feature_name\n",
    "        columns = [col for col in X.columns if feature_name in col]\n",
    "        array = array + columns\n",
    "    return array"
   ]
  },
  {
   "cell_type": "code",
   "execution_count": 275,
   "metadata": {
    "ExecuteTime": {
     "end_time": "2016-09-16T00:21:21.312766",
     "start_time": "2016-09-16T00:21:21.289175"
    },
    "collapsed": true,
    "hidden": true
   },
   "outputs": [],
   "source": [
    "features_taken = ['age','wage_per_hour','weeks_worked_in_year','dividends_from_stocks','capital_gains','num_persons_worked_for_employer','capital_losses']\n",
    "split_features_to_be_added =['occupation_code','education','industry_code','major_industry_code','sex','major_occupation_code','class_of_worker','tax_filer_status','marital_status','own_business_or_self_employed','detailed_household_and_family_stat','member_of_a_labor_union','country_of_birth_father','country_of_birth_mother','detailed_household_summary_in_household','full_or_part_time_employment_stat','race']\n",
    "\n",
    "features_taken = add_split_variables_to_array(split_features_to_be_added, features_taken, X_train)"
   ]
  },
  {
   "cell_type": "code",
   "execution_count": 276,
   "metadata": {
    "ExecuteTime": {
     "end_time": "2016-09-16T00:21:23.025397",
     "start_time": "2016-09-16T00:21:21.320736"
    },
    "collapsed": false,
    "hidden": true,
    "run_control": {
     "frozen": false,
     "read_only": false
    }
   },
   "outputs": [],
   "source": [
    "X_train_temp = X_train[features_taken]\n",
    "X_train = X_train_temp"
   ]
  },
  {
   "cell_type": "code",
   "execution_count": 277,
   "metadata": {
    "ExecuteTime": {
     "end_time": "2016-09-16T00:21:23.111510",
     "start_time": "2016-09-16T00:21:23.038887"
    },
    "collapsed": false,
    "hidden": true,
    "run_control": {
     "frozen": false,
     "read_only": false
    }
   },
   "outputs": [
    {
     "data": {
      "text/html": [
       "<div>\n",
       "<table border=\"1\" class=\"dataframe\">\n",
       "  <thead>\n",
       "    <tr style=\"text-align: right;\">\n",
       "      <th></th>\n",
       "      <th>age</th>\n",
       "      <th>wage_per_hour</th>\n",
       "      <th>weeks_worked_in_year</th>\n",
       "      <th>dividends_from_stocks</th>\n",
       "      <th>capital_gains</th>\n",
       "      <th>num_persons_worked_for_employer</th>\n",
       "      <th>capital_losses</th>\n",
       "      <th>split_occupation_code_0</th>\n",
       "      <th>split_occupation_code_1</th>\n",
       "      <th>split_occupation_code_2</th>\n",
       "      <th>...</th>\n",
       "      <th>split_full_or_part_time_employment_stat__PT_for_econ_reasons_usually_FT</th>\n",
       "      <th>split_full_or_part_time_employment_stat__PT_for_econ_reasons_usually_PT</th>\n",
       "      <th>split_full_or_part_time_employment_stat__PT_for_non-econ_reasons_usually_FT</th>\n",
       "      <th>split_full_or_part_time_employment_stat__Unemployed_full-time</th>\n",
       "      <th>split_full_or_part_time_employment_stat__Unemployed_part-_time</th>\n",
       "      <th>split_race__Amer_Indian_Aleut_or_Eskimo</th>\n",
       "      <th>split_race__Asian_or_Pacific_Islander</th>\n",
       "      <th>split_race__Black</th>\n",
       "      <th>split_race__Other</th>\n",
       "      <th>split_race__White</th>\n",
       "    </tr>\n",
       "  </thead>\n",
       "  <tbody>\n",
       "    <tr>\n",
       "      <th>0</th>\n",
       "      <td>73</td>\n",
       "      <td>0</td>\n",
       "      <td>0</td>\n",
       "      <td>0</td>\n",
       "      <td>0</td>\n",
       "      <td>0</td>\n",
       "      <td>0</td>\n",
       "      <td>1.0</td>\n",
       "      <td>0.0</td>\n",
       "      <td>0.0</td>\n",
       "      <td>...</td>\n",
       "      <td>0.0</td>\n",
       "      <td>0.0</td>\n",
       "      <td>0.0</td>\n",
       "      <td>0.0</td>\n",
       "      <td>0.0</td>\n",
       "      <td>0.0</td>\n",
       "      <td>0.0</td>\n",
       "      <td>0.0</td>\n",
       "      <td>0.0</td>\n",
       "      <td>1.0</td>\n",
       "    </tr>\n",
       "    <tr>\n",
       "      <th>1</th>\n",
       "      <td>58</td>\n",
       "      <td>0</td>\n",
       "      <td>52</td>\n",
       "      <td>0</td>\n",
       "      <td>0</td>\n",
       "      <td>1</td>\n",
       "      <td>0</td>\n",
       "      <td>0.0</td>\n",
       "      <td>0.0</td>\n",
       "      <td>0.0</td>\n",
       "      <td>...</td>\n",
       "      <td>0.0</td>\n",
       "      <td>0.0</td>\n",
       "      <td>0.0</td>\n",
       "      <td>0.0</td>\n",
       "      <td>0.0</td>\n",
       "      <td>0.0</td>\n",
       "      <td>0.0</td>\n",
       "      <td>0.0</td>\n",
       "      <td>0.0</td>\n",
       "      <td>1.0</td>\n",
       "    </tr>\n",
       "    <tr>\n",
       "      <th>2</th>\n",
       "      <td>18</td>\n",
       "      <td>0</td>\n",
       "      <td>0</td>\n",
       "      <td>0</td>\n",
       "      <td>0</td>\n",
       "      <td>0</td>\n",
       "      <td>0</td>\n",
       "      <td>1.0</td>\n",
       "      <td>0.0</td>\n",
       "      <td>0.0</td>\n",
       "      <td>...</td>\n",
       "      <td>0.0</td>\n",
       "      <td>0.0</td>\n",
       "      <td>0.0</td>\n",
       "      <td>0.0</td>\n",
       "      <td>0.0</td>\n",
       "      <td>0.0</td>\n",
       "      <td>1.0</td>\n",
       "      <td>0.0</td>\n",
       "      <td>0.0</td>\n",
       "      <td>0.0</td>\n",
       "    </tr>\n",
       "    <tr>\n",
       "      <th>3</th>\n",
       "      <td>9</td>\n",
       "      <td>0</td>\n",
       "      <td>0</td>\n",
       "      <td>0</td>\n",
       "      <td>0</td>\n",
       "      <td>0</td>\n",
       "      <td>0</td>\n",
       "      <td>1.0</td>\n",
       "      <td>0.0</td>\n",
       "      <td>0.0</td>\n",
       "      <td>...</td>\n",
       "      <td>0.0</td>\n",
       "      <td>0.0</td>\n",
       "      <td>0.0</td>\n",
       "      <td>0.0</td>\n",
       "      <td>0.0</td>\n",
       "      <td>0.0</td>\n",
       "      <td>0.0</td>\n",
       "      <td>0.0</td>\n",
       "      <td>0.0</td>\n",
       "      <td>1.0</td>\n",
       "    </tr>\n",
       "    <tr>\n",
       "      <th>4</th>\n",
       "      <td>10</td>\n",
       "      <td>0</td>\n",
       "      <td>0</td>\n",
       "      <td>0</td>\n",
       "      <td>0</td>\n",
       "      <td>0</td>\n",
       "      <td>0</td>\n",
       "      <td>1.0</td>\n",
       "      <td>0.0</td>\n",
       "      <td>0.0</td>\n",
       "      <td>...</td>\n",
       "      <td>0.0</td>\n",
       "      <td>0.0</td>\n",
       "      <td>0.0</td>\n",
       "      <td>0.0</td>\n",
       "      <td>0.0</td>\n",
       "      <td>0.0</td>\n",
       "      <td>0.0</td>\n",
       "      <td>0.0</td>\n",
       "      <td>0.0</td>\n",
       "      <td>1.0</td>\n",
       "    </tr>\n",
       "  </tbody>\n",
       "</table>\n",
       "<p>5 rows × 326 columns</p>\n",
       "</div>"
      ],
      "text/plain": [
       "   age  wage_per_hour  weeks_worked_in_year  dividends_from_stocks  \\\n",
       "0   73              0                     0                      0   \n",
       "1   58              0                    52                      0   \n",
       "2   18              0                     0                      0   \n",
       "3    9              0                     0                      0   \n",
       "4   10              0                     0                      0   \n",
       "\n",
       "   capital_gains  num_persons_worked_for_employer  capital_losses  \\\n",
       "0              0                                0               0   \n",
       "1              0                                1               0   \n",
       "2              0                                0               0   \n",
       "3              0                                0               0   \n",
       "4              0                                0               0   \n",
       "\n",
       "   split_occupation_code_0  split_occupation_code_1  split_occupation_code_2  \\\n",
       "0                      1.0                      0.0                      0.0   \n",
       "1                      0.0                      0.0                      0.0   \n",
       "2                      1.0                      0.0                      0.0   \n",
       "3                      1.0                      0.0                      0.0   \n",
       "4                      1.0                      0.0                      0.0   \n",
       "\n",
       "         ...          \\\n",
       "0        ...           \n",
       "1        ...           \n",
       "2        ...           \n",
       "3        ...           \n",
       "4        ...           \n",
       "\n",
       "   split_full_or_part_time_employment_stat__PT_for_econ_reasons_usually_FT  \\\n",
       "0                                                0.0                         \n",
       "1                                                0.0                         \n",
       "2                                                0.0                         \n",
       "3                                                0.0                         \n",
       "4                                                0.0                         \n",
       "\n",
       "   split_full_or_part_time_employment_stat__PT_for_econ_reasons_usually_PT  \\\n",
       "0                                                0.0                         \n",
       "1                                                0.0                         \n",
       "2                                                0.0                         \n",
       "3                                                0.0                         \n",
       "4                                                0.0                         \n",
       "\n",
       "   split_full_or_part_time_employment_stat__PT_for_non-econ_reasons_usually_FT  \\\n",
       "0                                                0.0                             \n",
       "1                                                0.0                             \n",
       "2                                                0.0                             \n",
       "3                                                0.0                             \n",
       "4                                                0.0                             \n",
       "\n",
       "   split_full_or_part_time_employment_stat__Unemployed_full-time  \\\n",
       "0                                                0.0               \n",
       "1                                                0.0               \n",
       "2                                                0.0               \n",
       "3                                                0.0               \n",
       "4                                                0.0               \n",
       "\n",
       "   split_full_or_part_time_employment_stat__Unemployed_part-_time  \\\n",
       "0                                                0.0                \n",
       "1                                                0.0                \n",
       "2                                                0.0                \n",
       "3                                                0.0                \n",
       "4                                                0.0                \n",
       "\n",
       "   split_race__Amer_Indian_Aleut_or_Eskimo  \\\n",
       "0                                      0.0   \n",
       "1                                      0.0   \n",
       "2                                      0.0   \n",
       "3                                      0.0   \n",
       "4                                      0.0   \n",
       "\n",
       "   split_race__Asian_or_Pacific_Islander  split_race__Black  \\\n",
       "0                                    0.0                0.0   \n",
       "1                                    0.0                0.0   \n",
       "2                                    1.0                0.0   \n",
       "3                                    0.0                0.0   \n",
       "4                                    0.0                0.0   \n",
       "\n",
       "   split_race__Other  split_race__White  \n",
       "0                0.0                1.0  \n",
       "1                0.0                1.0  \n",
       "2                0.0                0.0  \n",
       "3                0.0                1.0  \n",
       "4                0.0                1.0  \n",
       "\n",
       "[5 rows x 326 columns]"
      ]
     },
     "execution_count": 277,
     "metadata": {},
     "output_type": "execute_result"
    }
   ],
   "source": [
    "X_train.head()"
   ]
  },
  {
   "cell_type": "markdown",
   "metadata": {},
   "source": [
    "### All the 20 best features after spliting categorical features"
   ]
  },
  {
   "cell_type": "code",
   "execution_count": 228,
   "metadata": {
    "ExecuteTime": {
     "end_time": "2016-09-15T23:44:43.685850",
     "start_time": "2016-09-15T23:44:37.505822"
    },
    "collapsed": true
   },
   "outputs": [],
   "source": [
    "X_train = feature_engineering(train)\n",
    "#X_train = train\n",
    "\n",
    "# Target : target\n",
    "y_train = X_train.pop('target')"
   ]
  },
  {
   "cell_type": "code",
   "execution_count": 231,
   "metadata": {
    "ExecuteTime": {
     "end_time": "2016-09-15T23:48:50.944053",
     "start_time": "2016-09-15T23:48:47.770483"
    },
    "collapsed": false
   },
   "outputs": [],
   "source": [
    "features_taken = ['age','dividends_from_stocks','capital_gains','num_persons_worked_for_employer','weeks_worked_in_year','capital_losses','split_major_occupation_code__Executive_admin_and_managerial','split_sex__Female','split_occupation_code_2','split_education__Masters_degree(MA_MS_MEng_MEd_MSW_MBA)','split_sex__Male','split_class_of_worker__Not_in_universe','split_education__Bachelors_degree(BA_AB_BS)','split_full_or_part_time_employment_stat__Children_or_Armed_Forces','split_full_or_part_time_employment_stat__Full-time_schedules','split_major_occupation_code__Professional_specialty','split_education__High_school_graduate','split_marital_status__Married-civilian_spouse_present','split_education__Prof_school_degree_(MD_DDS_DVM_LLB_JD)','split_education__Some_college_but_no_degree']\n",
    "\n",
    "X_train_temp = X_train[features_taken]\n",
    "X_train = X_train_temp"
   ]
  },
  {
   "cell_type": "code",
   "execution_count": 232,
   "metadata": {
    "ExecuteTime": {
     "end_time": "2016-09-15T23:48:59.251317",
     "start_time": "2016-09-15T23:48:59.213524"
    },
    "collapsed": false
   },
   "outputs": [
    {
     "data": {
      "text/html": [
       "<div>\n",
       "<table border=\"1\" class=\"dataframe\">\n",
       "  <thead>\n",
       "    <tr style=\"text-align: right;\">\n",
       "      <th></th>\n",
       "      <th>age</th>\n",
       "      <th>dividends_from_stocks</th>\n",
       "      <th>capital_gains</th>\n",
       "      <th>num_persons_worked_for_employer</th>\n",
       "      <th>weeks_worked_in_year</th>\n",
       "      <th>capital_losses</th>\n",
       "      <th>split_major_occupation_code__Executive_admin_and_managerial</th>\n",
       "      <th>split_sex__Female</th>\n",
       "      <th>split_occupation_code_2</th>\n",
       "      <th>split_education__Masters_degree(MA_MS_MEng_MEd_MSW_MBA)</th>\n",
       "      <th>split_sex__Male</th>\n",
       "      <th>split_class_of_worker__Not_in_universe</th>\n",
       "      <th>split_education__Bachelors_degree(BA_AB_BS)</th>\n",
       "      <th>split_full_or_part_time_employment_stat__Children_or_Armed_Forces</th>\n",
       "      <th>split_full_or_part_time_employment_stat__Full-time_schedules</th>\n",
       "      <th>split_major_occupation_code__Professional_specialty</th>\n",
       "      <th>split_education__High_school_graduate</th>\n",
       "      <th>split_marital_status__Married-civilian_spouse_present</th>\n",
       "      <th>split_education__Prof_school_degree_(MD_DDS_DVM_LLB_JD)</th>\n",
       "      <th>split_education__Some_college_but_no_degree</th>\n",
       "    </tr>\n",
       "  </thead>\n",
       "  <tbody>\n",
       "    <tr>\n",
       "      <th>0</th>\n",
       "      <td>73</td>\n",
       "      <td>0</td>\n",
       "      <td>0</td>\n",
       "      <td>0</td>\n",
       "      <td>0</td>\n",
       "      <td>0</td>\n",
       "      <td>0.0</td>\n",
       "      <td>1.0</td>\n",
       "      <td>0.0</td>\n",
       "      <td>0.0</td>\n",
       "      <td>0.0</td>\n",
       "      <td>1.0</td>\n",
       "      <td>0.0</td>\n",
       "      <td>0.0</td>\n",
       "      <td>0.0</td>\n",
       "      <td>0.0</td>\n",
       "      <td>1.0</td>\n",
       "      <td>0.0</td>\n",
       "      <td>0.0</td>\n",
       "      <td>0.0</td>\n",
       "    </tr>\n",
       "    <tr>\n",
       "      <th>1</th>\n",
       "      <td>58</td>\n",
       "      <td>0</td>\n",
       "      <td>0</td>\n",
       "      <td>1</td>\n",
       "      <td>52</td>\n",
       "      <td>0</td>\n",
       "      <td>0.0</td>\n",
       "      <td>0.0</td>\n",
       "      <td>0.0</td>\n",
       "      <td>0.0</td>\n",
       "      <td>1.0</td>\n",
       "      <td>0.0</td>\n",
       "      <td>0.0</td>\n",
       "      <td>1.0</td>\n",
       "      <td>0.0</td>\n",
       "      <td>0.0</td>\n",
       "      <td>0.0</td>\n",
       "      <td>0.0</td>\n",
       "      <td>0.0</td>\n",
       "      <td>1.0</td>\n",
       "    </tr>\n",
       "    <tr>\n",
       "      <th>2</th>\n",
       "      <td>18</td>\n",
       "      <td>0</td>\n",
       "      <td>0</td>\n",
       "      <td>0</td>\n",
       "      <td>0</td>\n",
       "      <td>0</td>\n",
       "      <td>0.0</td>\n",
       "      <td>1.0</td>\n",
       "      <td>0.0</td>\n",
       "      <td>0.0</td>\n",
       "      <td>0.0</td>\n",
       "      <td>1.0</td>\n",
       "      <td>0.0</td>\n",
       "      <td>0.0</td>\n",
       "      <td>0.0</td>\n",
       "      <td>0.0</td>\n",
       "      <td>0.0</td>\n",
       "      <td>0.0</td>\n",
       "      <td>0.0</td>\n",
       "      <td>0.0</td>\n",
       "    </tr>\n",
       "    <tr>\n",
       "      <th>3</th>\n",
       "      <td>9</td>\n",
       "      <td>0</td>\n",
       "      <td>0</td>\n",
       "      <td>0</td>\n",
       "      <td>0</td>\n",
       "      <td>0</td>\n",
       "      <td>0.0</td>\n",
       "      <td>1.0</td>\n",
       "      <td>0.0</td>\n",
       "      <td>0.0</td>\n",
       "      <td>0.0</td>\n",
       "      <td>1.0</td>\n",
       "      <td>0.0</td>\n",
       "      <td>1.0</td>\n",
       "      <td>0.0</td>\n",
       "      <td>0.0</td>\n",
       "      <td>0.0</td>\n",
       "      <td>0.0</td>\n",
       "      <td>0.0</td>\n",
       "      <td>0.0</td>\n",
       "    </tr>\n",
       "    <tr>\n",
       "      <th>4</th>\n",
       "      <td>10</td>\n",
       "      <td>0</td>\n",
       "      <td>0</td>\n",
       "      <td>0</td>\n",
       "      <td>0</td>\n",
       "      <td>0</td>\n",
       "      <td>0.0</td>\n",
       "      <td>1.0</td>\n",
       "      <td>0.0</td>\n",
       "      <td>0.0</td>\n",
       "      <td>0.0</td>\n",
       "      <td>1.0</td>\n",
       "      <td>0.0</td>\n",
       "      <td>1.0</td>\n",
       "      <td>0.0</td>\n",
       "      <td>0.0</td>\n",
       "      <td>0.0</td>\n",
       "      <td>0.0</td>\n",
       "      <td>0.0</td>\n",
       "      <td>0.0</td>\n",
       "    </tr>\n",
       "  </tbody>\n",
       "</table>\n",
       "</div>"
      ],
      "text/plain": [
       "   age  dividends_from_stocks  capital_gains  num_persons_worked_for_employer  \\\n",
       "0   73                      0              0                                0   \n",
       "1   58                      0              0                                1   \n",
       "2   18                      0              0                                0   \n",
       "3    9                      0              0                                0   \n",
       "4   10                      0              0                                0   \n",
       "\n",
       "   weeks_worked_in_year  capital_losses  \\\n",
       "0                     0               0   \n",
       "1                    52               0   \n",
       "2                     0               0   \n",
       "3                     0               0   \n",
       "4                     0               0   \n",
       "\n",
       "   split_major_occupation_code__Executive_admin_and_managerial  \\\n",
       "0                                                0.0             \n",
       "1                                                0.0             \n",
       "2                                                0.0             \n",
       "3                                                0.0             \n",
       "4                                                0.0             \n",
       "\n",
       "   split_sex__Female  split_occupation_code_2  \\\n",
       "0                1.0                      0.0   \n",
       "1                0.0                      0.0   \n",
       "2                1.0                      0.0   \n",
       "3                1.0                      0.0   \n",
       "4                1.0                      0.0   \n",
       "\n",
       "   split_education__Masters_degree(MA_MS_MEng_MEd_MSW_MBA)  split_sex__Male  \\\n",
       "0                                                0.0                    0.0   \n",
       "1                                                0.0                    1.0   \n",
       "2                                                0.0                    0.0   \n",
       "3                                                0.0                    0.0   \n",
       "4                                                0.0                    0.0   \n",
       "\n",
       "   split_class_of_worker__Not_in_universe  \\\n",
       "0                                     1.0   \n",
       "1                                     0.0   \n",
       "2                                     1.0   \n",
       "3                                     1.0   \n",
       "4                                     1.0   \n",
       "\n",
       "   split_education__Bachelors_degree(BA_AB_BS)  \\\n",
       "0                                          0.0   \n",
       "1                                          0.0   \n",
       "2                                          0.0   \n",
       "3                                          0.0   \n",
       "4                                          0.0   \n",
       "\n",
       "   split_full_or_part_time_employment_stat__Children_or_Armed_Forces  \\\n",
       "0                                                0.0                   \n",
       "1                                                1.0                   \n",
       "2                                                0.0                   \n",
       "3                                                1.0                   \n",
       "4                                                1.0                   \n",
       "\n",
       "   split_full_or_part_time_employment_stat__Full-time_schedules  \\\n",
       "0                                                0.0              \n",
       "1                                                0.0              \n",
       "2                                                0.0              \n",
       "3                                                0.0              \n",
       "4                                                0.0              \n",
       "\n",
       "   split_major_occupation_code__Professional_specialty  \\\n",
       "0                                                0.0     \n",
       "1                                                0.0     \n",
       "2                                                0.0     \n",
       "3                                                0.0     \n",
       "4                                                0.0     \n",
       "\n",
       "   split_education__High_school_graduate  \\\n",
       "0                                    1.0   \n",
       "1                                    0.0   \n",
       "2                                    0.0   \n",
       "3                                    0.0   \n",
       "4                                    0.0   \n",
       "\n",
       "   split_marital_status__Married-civilian_spouse_present  \\\n",
       "0                                                0.0       \n",
       "1                                                0.0       \n",
       "2                                                0.0       \n",
       "3                                                0.0       \n",
       "4                                                0.0       \n",
       "\n",
       "   split_education__Prof_school_degree_(MD_DDS_DVM_LLB_JD)  \\\n",
       "0                                                0.0         \n",
       "1                                                0.0         \n",
       "2                                                0.0         \n",
       "3                                                0.0         \n",
       "4                                                0.0         \n",
       "\n",
       "   split_education__Some_college_but_no_degree  \n",
       "0                                          0.0  \n",
       "1                                          1.0  \n",
       "2                                          0.0  \n",
       "3                                          0.0  \n",
       "4                                          0.0  "
      ]
     },
     "execution_count": 232,
     "metadata": {},
     "output_type": "execute_result"
    }
   ],
   "source": [
    "X_train.head()"
   ]
  },
  {
   "cell_type": "markdown",
   "metadata": {},
   "source": [
    "# Models"
   ]
  },
  {
   "cell_type": "markdown",
   "metadata": {},
   "source": [
    "## Logistic regression"
   ]
  },
  {
   "cell_type": "code",
   "execution_count": 279,
   "metadata": {
    "ExecuteTime": {
     "end_time": "2016-09-16T00:22:47.965356",
     "start_time": "2016-09-16T00:21:59.846424"
    },
    "collapsed": false,
    "run_control": {
     "frozen": false,
     "read_only": false
    }
   },
   "outputs": [
    {
     "name": "stdout",
     "output_type": "stream",
     "text": [
      "-0.124636616016\n",
      "--- seconds 48.10120391845703 ---\n"
     ]
    }
   ],
   "source": [
    "from sklearn.cross_validation import cross_val_score\n",
    "def compute_score(clf, X, y):\n",
    "    xval = cross_val_score(clf, X, y, cv = 5, scoring = \"log_loss\")\n",
    "    return np.mean(xval)\n",
    "\n",
    "from sklearn.linear_model import LogisticRegression\n",
    "\n",
    "start_time = time.time()\n",
    "lr = LogisticRegression()\n",
    "mean = compute_score(lr, X_train, y_train)\n",
    "print(mean)\n",
    "print(\"--- seconds %s ---\" % (time.time() - start_time))"
   ]
  },
  {
   "cell_type": "markdown",
   "metadata": {},
   "source": [
    "Score for base model : 0.1842 (3.04 secondes)\n",
    "\n",
    "Model :\n",
    "- LogisticRegression   \n",
    "- Scoring : Log_loss   \n",
    "- Features : ['age','wage_per_hour','weeks_worked_in_year']\n",
    "- No modification on the dataset\n",
    "\n",
    "**Add dummy variable occupation_code**  \n",
    "Score: 0.1553 (6.67 s)\n",
    "\n",
    "**Add continuous variable dividends_from_stocks**  \n",
    "Score: 0.1494 (7.79 s)\n",
    "\n",
    "**Add continuous variable capital_gains**  \n",
    "Score: 0.1442 (9.17 s)\n",
    "\n",
    "**Add dummy variable education**  \n",
    "Score: 0.1360 (10.74 s)\n",
    "\n",
    "**Add dummy variable industry_code**  \n",
    "Score: 0.1330 (13.49 s)\n",
    "\n",
    "**Add continuous num_persons_worked_for_employer**  \n",
    "Score: 0.1321 (14.24 s)\n",
    "\n",
    "**Add dummy variable major_industry_code**  \n",
    "Score: 0.1321 (17.54 s)\n",
    "\n",
    "**Add dummy variable sex**  \n",
    "Score: 0.1282 (16.80 s)\n",
    "\n",
    "**Add dummy variable major_occupation_code**  \n",
    "Score: 0.1281 (25.94 s)\n",
    "\n",
    "\n",
    "\n",
    "**Add dummy variables :** \n",
    "- class_of_worker\n",
    "- tax_filer_status\n",
    "- marital_status\n",
    "- own_business_or_self_employed\n",
    "- detailed_household_and_family_stat\n",
    "- member_of_a_labor_union\n",
    "- country_of_birth_father\n",
    "- member_of_a_labor_union\n",
    "- country_of_birth_mother\n",
    "- detailed_household_summary_in_household\n",
    "- full_or_part_time_employment_stat\n",
    "- race\n",
    "\n",
    "**and continuous variable:**  \n",
    "- capital_losses\n",
    "\n",
    "Score: 0.1243 (40.50 s)\n",
    "\n",
    "\n",
    "\n",
    "**Add default NaN variable**\n",
    "Score: 0.1241 (44.70 s)\n"
   ]
  },
  {
   "cell_type": "markdown",
   "metadata": {
    "ExecuteTime": {
     "end_time": "2016-09-15T23:09:01.478497",
     "start_time": "2016-09-15T23:09:01.472911"
    },
    "collapsed": false,
    "run_control": {
     "frozen": false,
     "read_only": false
    }
   },
   "source": [
    "If we take the **20 best features after spliting categorical features**, we have :  \n",
    "Score: 0.1364 (11.28 s)\n",
    "\n",
    "We improve the performance and without loosing so much in scoring.  \n",
    "That can be easily understand because we have selected splited features thanks to a random forest, which selected the most important features."
   ]
  },
  {
   "cell_type": "markdown",
   "metadata": {},
   "source": [
    "## Logistic Regression with regularization"
   ]
  },
  {
   "cell_type": "code",
   "execution_count": null,
   "metadata": {
    "ExecuteTime": {
     "end_time": "2016-09-12T19:27:18.598205",
     "start_time": "2016-09-12T19:11:35.996225"
    },
    "collapsed": false,
    "run_control": {
     "frozen": false,
     "read_only": false
    }
   },
   "outputs": [],
   "source": [
    "from sklearn.cross_validation import cross_val_score\n",
    "def compute_score(clf, X, y):\n",
    "    xval = cross_val_score(clf, X, y, cv = 5, scoring = \"log_loss\")\n",
    "    return np.mean(xval)\n",
    "\n",
    "from sklearn.linear_model import SGDClassifier\n",
    "\n",
    "start_time = time.time()\n",
    "lr = SGDClassifier(loss='log', n_iter=1000, alpha=1, penalty=\"l2\")\n",
    "mean = compute_score(lr, X_train, y_train)\n",
    "print(mean)\n",
    "print(\"--- seconds %s ---\" % (time.time() - start_time))"
   ]
  },
  {
   "cell_type": "markdown",
   "metadata": {},
   "source": [
    "## Xgboost"
   ]
  },
  {
   "cell_type": "markdown",
   "metadata": {},
   "source": [
    "We will take the example of Xgboost to show how to find the best hyperparameters."
   ]
  },
  {
   "cell_type": "markdown",
   "metadata": {},
   "source": [
    "### Gridsearch for Xgboost: Learning Rate"
   ]
  },
  {
   "cell_type": "code",
   "execution_count": null,
   "metadata": {
    "ExecuteTime": {
     "end_time": "2016-09-10T13:54:06.326986",
     "start_time": "2016-09-10T10:57:10.062976"
    },
    "collapsed": false,
    "run_control": {
     "frozen": false,
     "read_only": true
    }
   },
   "outputs": [],
   "source": [
    "from sklearn.cross_validation import cross_val_score\n",
    "\n",
    "import xgboost as xgb\n",
    "\n",
    "from sklearn.grid_search import GridSearchCV\n",
    "from xgboost.sklearn import XGBClassifier\n",
    "\n",
    "start_time = time.time()\n",
    "model = XGBClassifier(n_estimators=400, max_depth=3, objective=\"binary:logistic\")\n",
    "parameters = {'learning_rate':[0.05,0.07,0.1,0.15,0.2,0.25]}\n",
    "\n",
    "clf = GridSearchCV(model, parameters, cv = 5, scoring = \"log_loss\",n_jobs=-1, verbose=10)\n",
    "clf.fit(X_train, y_train)\n",
    "\n",
    "print(clf.grid_scores_)\n",
    "\n",
    "print(\"--- seconds %s ---\" % (time.time() - start_time))"
   ]
  },
  {
   "cell_type": "markdown",
   "metadata": {},
   "source": [
    "**Results:**\n",
    "\n",
    "\n",
    "| Learning Rate|Score log loss| \n",
    "| - | -: |\n",
    "| 0.05 |0.11677|\n",
    "| 0.07 |0.11531|\n",
    "| 0.1  |0.11403| \n",
    "|0.15|0.11252|\n",
    "|0.2|0.11166|\n",
    "|0.25|0.11129|\n"
   ]
  },
  {
   "cell_type": "code",
   "execution_count": 13,
   "metadata": {
    "ExecuteTime": {
     "end_time": "2016-09-13T16:59:00.742685",
     "start_time": "2016-09-13T16:59:00.553340"
    },
    "collapsed": false,
    "hide_input": false,
    "run_control": {
     "frozen": false,
     "read_only": true
    }
   },
   "outputs": [
    {
     "data": {
      "image/png": "[encoded data removed]",
      "text/plain": [
       "<matplotlib.figure.Figure at 0x10bb246a0>"
      ]
     },
     "metadata": {},
     "output_type": "display_data"
    }
   ],
   "source": [
    "import numpy as np\n",
    "import matplotlib.pyplot as plt\n",
    "\n",
    "\n",
    "x = [0.05,0.07,0.1,0.15,0.2,0.25]\n",
    "y = [0.11677,0.11531,0.11403,0.11252,0.11166,0.11129]\n",
    "\n",
    "plt.scatter(x, y, alpha=0.5)\n",
    "plt.show()"
   ]
  },
  {
   "cell_type": "markdown",
   "metadata": {},
   "source": [
    "### Gridsearch for Xgboost: Number of estimators"
   ]
  },
  {
   "cell_type": "code",
   "execution_count": null,
   "metadata": {
    "ExecuteTime": {
     "start_time": "2016-09-13T14:27:55.487Z"
    },
    "collapsed": false,
    "run_control": {
     "frozen": false,
     "read_only": true
    },
    "scrolled": false
   },
   "outputs": [],
   "source": [
    "from sklearn.cross_validation import cross_val_score\n",
    "\n",
    "import xgboost as xgb\n",
    "\n",
    "from sklearn.grid_search import GridSearchCV\n",
    "from xgboost.sklearn import XGBClassifier\n",
    "\n",
    "start_time = time.time()\n",
    "model = XGBClassifier(max_depth=3, objective=\"binary:logistic\")\n",
    "parameters = {'n_estimators':[100,300,600,900,1200,1500]}\n",
    "\n",
    "clf = GridSearchCV(model, parameters, cv = 5, scoring = \"log_loss\",n_jobs=-1, verbose=10)\n",
    "clf.fit(X_train, y_train)\n",
    "\n",
    "print(clf.grid_scores_)\n",
    "\n",
    "print(\"--- seconds %s ---\" % (time.time() - start_time))"
   ]
  },
  {
   "cell_type": "markdown",
   "metadata": {
    "ExecuteTime": {
     "start_time": "2016-09-13T14:29:50.152Z"
    }
   },
   "source": [
    "**Results:**\n",
    "\n",
    "\n",
    "| Nummber of estimators|Score log loss| \n",
    "| - | -: |\n",
    "| 100 |0.12138|\n",
    "| 300 |0.11498|\n",
    "| 600  |0.11252| \n",
    "|900|0.11134|\n",
    "|1200|0.11071|\n",
    "|1500|0.11034|\n"
   ]
  },
  {
   "cell_type": "code",
   "execution_count": 14,
   "metadata": {
    "ExecuteTime": {
     "end_time": "2016-09-13T16:59:03.661467",
     "start_time": "2016-09-13T16:59:03.456849"
    },
    "collapsed": false,
    "run_control": {
     "frozen": false,
     "read_only": false
    }
   },
   "outputs": [
    {
     "data": {
      "image/png": "[encoded data removed]",
      "text/plain": [
       "<matplotlib.figure.Figure at 0x10bc6a710>"
      ]
     },
     "metadata": {},
     "output_type": "display_data"
    }
   ],
   "source": [
    "import numpy as np\n",
    "import matplotlib.pyplot as plt\n",
    "\n",
    "\n",
    "x = [100,300,600,900,1200,1500]\n",
    "y = [0.12138,0.11498,0.11252,0.11134,0.11071,0.11034]\n",
    "\n",
    "plt.scatter(x, y, alpha=0.5)\n",
    "plt.show()"
   ]
  },
  {
   "cell_type": "markdown",
   "metadata": {},
   "source": [
    "### Gridsearch for Xgboost: Max depth"
   ]
  },
  {
   "cell_type": "code",
   "execution_count": null,
   "metadata": {
    "ExecuteTime": {
     "end_time": "2016-09-13T01:02:34.188735",
     "start_time": "2016-09-12T19:27:18.601783"
    },
    "collapsed": false,
    "run_control": {
     "frozen": false,
     "read_only": false
    }
   },
   "outputs": [],
   "source": [
    "from sklearn.cross_validation import cross_val_score\n",
    "\n",
    "import xgboost as xgb\n",
    "\n",
    "from sklearn.grid_search import GridSearchCV\n",
    "from xgboost.sklearn import XGBClassifier\n",
    "\n",
    "start_time = time.time()\n",
    "model = XGBClassifier(n_estimators=400, objective=\"binary:logistic\")\n",
    "parameters = {'max_depth':[1,2,3,4,5,6,7,8,9]}\n",
    "\n",
    "clf = GridSearchCV(model, parameters, cv = 5, scoring = \"log_loss\",n_jobs=-1, verbose=10)\n",
    "clf.fit(X_train, y_train)\n",
    "\n",
    "print(clf.grid_scores_)\n",
    "\n",
    "print(\"--- seconds %s ---\" % (time.time() - start_time))"
   ]
  },
  {
   "cell_type": "markdown",
   "metadata": {
    "ExecuteTime": {
     "start_time": "2016-09-13T14:32:38.059Z"
    }
   },
   "source": [
    "**Results:**\n",
    "\n",
    "\n",
    "| Number of estimators|Score log loss| \n",
    "| - | -: |\n",
    "|1|0.12244|\n",
    "|2|0.11659|\n",
    "|3|0.11403| \n",
    "|4|0.11219|\n",
    "|5|0.11115|\n",
    "|6|0.11080|\n",
    "|7|0.11086|\n",
    "|8|0.11132|\n",
    "|9|0.11185|"
   ]
  },
  {
   "cell_type": "code",
   "execution_count": 15,
   "metadata": {
    "ExecuteTime": {
     "end_time": "2016-09-13T16:59:06.587535",
     "start_time": "2016-09-13T16:59:06.405032"
    },
    "collapsed": false,
    "run_control": {
     "frozen": false,
     "read_only": false
    }
   },
   "outputs": [
    {
     "data": {
      "image/png": "[encoded data removed]",
      "text/plain": [
       "<matplotlib.figure.Figure at 0x10b376b38>"
      ]
     },
     "metadata": {},
     "output_type": "display_data"
    }
   ],
   "source": [
    "import numpy as np\n",
    "import matplotlib.pyplot as plt\n",
    "\n",
    "\n",
    "x = [1,2,3,4,5,6,7,8,9]\n",
    "y = [0.12244,0.11659,0.11403,0.11219,0.11115,0.11080,0.11086,0.11132,0.11185]\n",
    "\n",
    "plt.scatter(x, y, alpha=0.5)\n",
    "plt.show()"
   ]
  },
  {
   "cell_type": "markdown",
   "metadata": {},
   "source": [
    "### Xgboost execution and evaluation"
   ]
  },
  {
   "cell_type": "code",
   "execution_count": null,
   "metadata": {
    "ExecuteTime": {
     "end_time": "2016-09-14T19:54:22.679158",
     "start_time": "2016-09-14T15:34:13.916899"
    },
    "collapsed": false,
    "run_control": {
     "frozen": false,
     "read_only": false
    }
   },
   "outputs": [],
   "source": [
    "from sklearn.cross_validation import cross_val_score\n",
    "from xgboost.sklearn import XGBClassifier\n",
    "\n",
    "def compute_score(clf, X, y):\n",
    "    xval = cross_val_score(clf, X, y, cv = 5, scoring = \"log_loss\")\n",
    "    return np.mean(xval)\n",
    "\n",
    "start_time = time.time()\n",
    "model_xgboost = XGBClassifier(max_depth=7 ,n_estimators=1200,learning_rate=0.20 , objective=\"binary:logistic\")\n",
    "mean = compute_score(model_xgboost, X_train, y_train)\n",
    "print(mean)\n",
    "print(\"--- seconds %s ---\" % (time.time() - start_time))"
   ]
  },
  {
   "cell_type": "markdown",
   "metadata": {},
   "source": [
    "**Log loss:** 0.1222"
   ]
  },
  {
   "cell_type": "markdown",
   "metadata": {
    "heading_collapsed": true
   },
   "source": [
    "# Comparison between logistic regression and xgboost"
   ]
  },
  {
   "cell_type": "markdown",
   "metadata": {
    "hidden": true
   },
   "source": [
    "## ROC curve"
   ]
  },
  {
   "cell_type": "code",
   "execution_count": 18,
   "metadata": {
    "ExecuteTime": {
     "end_time": "2016-09-13T18:18:31.433017",
     "start_time": "2016-09-13T17:01:33.955745"
    },
    "collapsed": false,
    "hidden": true,
    "run_control": {
     "frozen": false,
     "read_only": false
    }
   },
   "outputs": [
    {
     "name": "stdout",
     "output_type": "stream",
     "text": [
      "Area under the ROC curve for regression : 0.945592\n",
      "Area under the ROC curve for xgboost : 0.993707\n"
     ]
    },
    {
     "data": {
      "text/plain": [
       "<matplotlib.legend.Legend at 0x10c07e7f0>"
      ]
     },
     "execution_count": 18,
     "metadata": {},
     "output_type": "execute_result"
    },
    {
     "data": {
      "image/png": "[encoded data removed]",
      "text/plain": [
       "<matplotlib.figure.Figure at 0x10b260c88>"
      ]
     },
     "metadata": {},
     "output_type": "display_data"
    }
   ],
   "source": [
    "from sklearn.metrics import roc_curve, auc\n",
    "import xgboost as xgb\n",
    "from xgboost.sklearn import XGBClassifier\n",
    "\n",
    "lr = LogisticRegression()\n",
    "lr.fit(X_train,y_train)\n",
    "proba_regression = lr.predict_proba(X_train)\n",
    "\n",
    "# proba_regression est une matrice de deux colonnes avec la probabilités d'appartenance à chaque classe\n",
    "fpr_reg, tpr_reg, thresholds_reg = roc_curve(y_train, proba_regression[:, 1])\n",
    "roc_auc_reg = auc(fpr_reg, tpr_reg)\n",
    "\n",
    "model_xgboost = XGBClassifier(max_depth=7 ,n_estimators=1200,learning_rate=0.20 , objective=\"binary:logistic\")\n",
    "model_xgboost.fit(X_train,y_train)\n",
    "proba_xgboost = model_xgboost.predict_proba(X_train)\n",
    "\n",
    "# proba_xgboost est une matrice de deux colonnes avec la probabilités d'appartenance à chaque classe\n",
    "fpr_xgboost, tpr_xgboost, thresholds_reg = roc_curve(y_train, proba_xgboost[:, 1])\n",
    "roc_auc_xgboost = auc(fpr_xgboost, tpr_xgboost)\n",
    "\n",
    "print (\"Area under the ROC curve for regression : %f\" % roc_auc_reg)\n",
    "print (\"Area under the ROC curve for xgboost : %f\" % roc_auc_xgboost)\n",
    "\n",
    "plt.plot(fpr_reg, tpr_reg, label='ROC curve for regression (area = %0.2f)' % roc_auc_reg)\n",
    "plt.plot(fpr_xgboost, tpr_xgboost, label='ROC curve for xgboost (area = %0.2f)' % roc_auc_xgboost)\n",
    "plt.plot([0, 1], [0, 1], 'k--')\n",
    "plt.xlim([0.0, 1.0])\n",
    "plt.ylim([0.0, 1.0])\n",
    "plt.xlabel('False Positive Rate')\n",
    "plt.ylabel('True Positive Rate')\n",
    "plt.title('Receiver operating characteristic example')\n",
    "plt.legend(loc=\"lower right\")"
   ]
  },
  {
   "cell_type": "markdown",
   "metadata": {},
   "source": [
    "# Submition"
   ]
  },
  {
   "cell_type": "markdown",
   "metadata": {},
   "source": [
    "Don't forget to run feature_engineering function and add_split_variables_to_array custom function"
   ]
  },
  {
   "cell_type": "code",
   "execution_count": 122,
   "metadata": {
    "ExecuteTime": {
     "end_time": "2016-09-15T14:37:09.752330",
     "start_time": "2016-09-15T14:37:01.720318"
    },
    "collapsed": false,
    "run_control": {
     "frozen": false,
     "read_only": false
    }
   },
   "outputs": [],
   "source": [
    "X_train = feature_engineering(train)\n",
    "y_train = X_train.pop('target')\n",
    "\n",
    "X_test = feature_engineering(test)\n",
    "y_test = X_test.pop('target')"
   ]
  },
  {
   "cell_type": "code",
   "execution_count": 124,
   "metadata": {
    "ExecuteTime": {
     "end_time": "2016-09-15T14:37:12.103516",
     "start_time": "2016-09-15T14:37:09.805214"
    },
    "collapsed": false
   },
   "outputs": [],
   "source": [
    "features_taken = ['age','wage_per_hour','weeks_worked_in_year','dividends_from_stocks','capital_gains','num_persons_worked_for_employer','capital_losses']\n",
    "split_features_to_be_added =['occupation_code','education','industry_code','major_industry_code','sex','major_occupation_code','class_of_worker','tax_filer_status','marital_status','own_business_or_self_employed','detailed_household_and_family_stat','member_of_a_labor_union','country_of_birth_father','country_of_birth_mother','detailed_household_summary_in_household','full_or_part_time_employment_stat','race']\n",
    "\n",
    "features_taken_temp = add_split_variables_to_array(split_features_to_be_added, features_taken, X_train)\n",
    "X_train_temp = X_train[features_taken_temp]\n",
    "X_train = X_train_temp\n",
    "\n",
    "features_taken_temp = add_split_variables_to_array(split_features_to_be_added, features_taken, X_test)\n",
    "X_test_temp = X_test[features_taken_temp]\n",
    "X_test = X_test_temp"
   ]
  },
  {
   "cell_type": "markdown",
   "metadata": {},
   "source": [
    "We use our best model:"
   ]
  },
  {
   "cell_type": "code",
   "execution_count": null,
   "metadata": {
    "ExecuteTime": {
     "end_time": "2016-09-15T15:49:56.155915",
     "start_time": "2016-09-15T14:37:39.613486"
    },
    "collapsed": false,
    "run_control": {
     "frozen": false,
     "read_only": false
    }
   },
   "outputs": [],
   "source": [
    "from xgboost.sklearn import XGBClassifier\n",
    "\n",
    "start_time = time.time()\n",
    "model = XGBClassifier(max_depth=7 ,n_estimators=1200,learning_rate=0.20 , objective=\"binary:logistic\")\n",
    "clf = model.fit(X_train, y_train)\n",
    "\n",
    "X_test['split_detailed_household_and_family_stat__Grandchild_under_18_ever_marr_not_in_subfamily']=0\n",
    "X_test = X_test[list(X_train.columns.values)]\n",
    "\n",
    "predicted = model.predict_proba(X_test)"
   ]
  },
  {
   "cell_type": "code",
   "execution_count": 152,
   "metadata": {
    "ExecuteTime": {
     "end_time": "2016-09-15T16:06:12.216036",
     "start_time": "2016-09-15T16:06:12.192922"
    },
    "collapsed": false
   },
   "outputs": [
    {
     "name": "stdout",
     "output_type": "stream",
     "text": [
      "Log loss: \n",
      "0.114678940938\n"
     ]
    }
   ],
   "source": [
    "from sklearn.metrics import log_loss\n",
    "error = log_loss(y_test, predicted)\n",
    "print('Log loss: ')\n",
    "print(error)"
   ]
  },
  {
   "cell_type": "markdown",
   "metadata": {},
   "source": [
    "**Log loss:**\n",
    "0.1147"
   ]
  },
  {
   "cell_type": "markdown",
   "metadata": {
    "collapsed": true,
    "run_control": {
     "frozen": false,
     "read_only": false
    }
   },
   "source": [
    "# Conclusion"
   ]
  },
  {
   "cell_type": "markdown",
   "metadata": {
    "collapsed": true,
    "run_control": {
     "frozen": false,
     "read_only": false
    }
   },
   "source": [
    "We have seen 3 differents algorithms :\n",
    "\n",
    "- 1 - A radom forest for the features selection\n",
    "- 2 - A regularised (l2) logistic regression as a base algorithm to help the feature engineering\n",
    "- 3 - Xgboost to show how to fix hyperparmeters\n",
    "\n",
    "We have compared the prediction of each method and test if we have done a great work by evaluating the test dataset.\n",
    "\n",
    "I choose *log loss* to evaluate the efficiency of prediction because we can **evaluate how sure the algorithm is** thanks to the probabilities of each class and **not only if the algorithm as right or wrong** for each line."
   ]
  },
  {
   "cell_type": "markdown",
   "metadata": {},
   "source": [
    "  "
   ]
  },
  {
   "cell_type": "markdown",
   "metadata": {
    "ExecuteTime": {
     "end_time": "2016-09-15T23:24:00.861896",
     "start_time": "2016-09-15T23:24:00.845696"
    }
   },
   "source": [
    "\n",
    "\n",
    "\n",
    "\n",
    "<center>**Made by Olivier NGUYEN QUOC**  \n",
    "Msc in Business Analytics and Data Sciences  \n",
    "Graduated from Centrale Nantes</center>"
   ]
  }
 ],
 "metadata": {
  "kernelspec": {
   "display_name": "Python 3",
   "language": "python",
   "name": "python3"
  },
  "language_info": {
   "codemirror_mode": {
    "name": "ipython",
    "version": 3
   },
   "file_extension": ".py",
   "mimetype": "text/x-python",
   "name": "python",
   "nbconvert_exporter": "python",
   "pygments_lexer": "ipython3",
   "version": "3.5.1"
  },
  "nav_menu": {},
  "notify_time": "5",
  "toc": {
   "navigate_menu": true,
   "number_sections": true,
   "sideBar": true,
   "threshold": 6,
   "toc_cell": false,
   "toc_section_display": "block",
   "toc_window_display": false
  }
 },
 "nbformat": 4,
 "nbformat_minor": 1
}
